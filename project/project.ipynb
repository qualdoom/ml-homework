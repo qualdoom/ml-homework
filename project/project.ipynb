{
 "cells": [
  {
   "cell_type": "code",
   "execution_count": 1,
   "metadata": {},
   "outputs": [],
   "source": [
    "# !pip install wheel==0.38.4\n",
    "# !pip install setuptools==65\n",
    "# !pip install gym==0.21"
   ]
  },
  {
   "cell_type": "code",
   "execution_count": 2,
   "metadata": {},
   "outputs": [
    {
     "data": {
      "text/plain": [
       "'0.21.0'"
      ]
     },
     "execution_count": 2,
     "metadata": {},
     "output_type": "execute_result"
    }
   ],
   "source": [
    "import gym\n",
    "gym.version.VERSION"
   ]
  },
  {
   "cell_type": "code",
   "execution_count": 3,
   "metadata": {},
   "outputs": [
    {
     "name": "stdout",
     "output_type": "stream",
     "text": [
      "n_actions= 7\n"
     ]
    }
   ],
   "source": [
    "# set up for destroying this evnironment😈\n",
    "\n",
    "from IPython.display import clear_output\n",
    "from PIL import Image\n",
    "import matplotlib.pyplot as plt\n",
    "import gym\n",
    "import numpy as np\n",
    "\n",
    "env = gym.make(\"ALE/Assault-v5\").env\n",
    "\n",
    "n_actions = env.action_space.n\n",
    "\n",
    "print(\"n_actions=\", n_actions)\n",
    "\n",
    "# for curios people\n",
    "# 0 NOOP\n",
    "# 1 FIRE\n",
    "# 2 UP\n",
    "# 3 RIGHT\n",
    "# 4 LEFT\n",
    "# 5 RIGHTFIRE\n",
    "# 6 LEFTFIRE"
   ]
  },
  {
   "cell_type": "code",
   "execution_count": 4,
   "metadata": {},
   "outputs": [],
   "source": [
    "def visualize(agent, t_max=10000):\n",
    "    # для просмотра что моделька делает в целом)\n",
    "    env_show = gym.make(\"ALE/Assault-v5\", render_mode=\"human\").env\n",
    "    \n",
    "    state = env_show.reset()\n",
    "\n",
    "    for t in range(t_max):\n",
    "        env_show.render()\n",
    "        \n",
    "        #predict with agent\n",
    "        \n",
    "        action = np.random.choice(np.arange(n_actions))\n",
    "        \n",
    "        new_state, reward, done, truncated, _ = env_show.step(action)\n",
    "\n",
    "        done = done or truncated\n",
    "\n",
    "        state = new_state\n",
    "        if done: \n",
    "            break\n",
    "    \n",
    "    \n",
    "    env_show.close()"
   ]
  },
  {
   "cell_type": "code",
   "execution_count": 5,
   "metadata": {},
   "outputs": [
    {
     "name": "stdout",
     "output_type": "stream",
     "text": [
      "(array([[[0, 0, 0],\n",
      "        [0, 0, 0],\n",
      "        [0, 0, 0],\n",
      "        ...,\n",
      "        [0, 0, 0],\n",
      "        [0, 0, 0],\n",
      "        [0, 0, 0]],\n",
      "\n",
      "       [[0, 0, 0],\n",
      "        [0, 0, 0],\n",
      "        [0, 0, 0],\n",
      "        ...,\n",
      "        [0, 0, 0],\n",
      "        [0, 0, 0],\n",
      "        [0, 0, 0]],\n",
      "\n",
      "       [[0, 0, 0],\n",
      "        [0, 0, 0],\n",
      "        [0, 0, 0],\n",
      "        ...,\n",
      "        [0, 0, 0],\n",
      "        [0, 0, 0],\n",
      "        [0, 0, 0]],\n",
      "\n",
      "       ...,\n",
      "\n",
      "       [[0, 0, 0],\n",
      "        [0, 0, 0],\n",
      "        [0, 0, 0],\n",
      "        ...,\n",
      "        [0, 0, 0],\n",
      "        [0, 0, 0],\n",
      "        [0, 0, 0]],\n",
      "\n",
      "       [[0, 0, 0],\n",
      "        [0, 0, 0],\n",
      "        [0, 0, 0],\n",
      "        ...,\n",
      "        [0, 0, 0],\n",
      "        [0, 0, 0],\n",
      "        [0, 0, 0]],\n",
      "\n",
      "       [[0, 0, 0],\n",
      "        [0, 0, 0],\n",
      "        [0, 0, 0],\n",
      "        ...,\n",
      "        [0, 0, 0],\n",
      "        [0, 0, 0],\n",
      "        [0, 0, 0]]], dtype=uint8), {'lives': 4, 'episode_frame_number': 0, 'frame_number': 0})\n"
     ]
    },
    {
     "data": {
      "text/plain": [
       "<matplotlib.image.AxesImage at 0x2b6c6e82350>"
      ]
     },
     "execution_count": 5,
     "metadata": {},
     "output_type": "execute_result"
    },
    {
     "data": {
      "image/png": "[encoded data removed]",
      "text/plain": [
       "<Figure size 640x480 with 1 Axes>"
      ]
     },
     "metadata": {},
     "output_type": "display_data"
    }
   ],
   "source": [
    "import matplotlib.pyplot as plt\n",
    "\n",
    "state = env.reset() # state - здесь изображение\n",
    "print(state)\n",
    "state = state[0]\n",
    "\n",
    "height, width, num_channels = state.shape\n",
    "\n",
    "plt.imshow(state) # здесь можно убрать лишние пиксели, но пока пофиг"
   ]
  },
  {
   "cell_type": "code",
   "execution_count": 6,
   "metadata": {},
   "outputs": [],
   "source": [
    "from functorch import vmap\n",
    "import torchvision.transforms as transforms \n",
    "\n",
    "def get_img_as_tensor(state):\n",
    "    transform = transforms.ToTensor()\n",
    "    tensor = transform(state)\n",
    "    return tensor"
   ]
  },
  {
   "cell_type": "markdown",
   "metadata": {},
   "source": [
    "Архитектура Нейронной сети"
   ]
  },
  {
   "cell_type": "code",
   "execution_count": 7,
   "metadata": {},
   "outputs": [],
   "source": [
    "import torch\n",
    "\n",
    "import torch.nn as nn\n",
    "import torch.nn.functional as F\n",
    "\n",
    "class NeuralNetwork(nn.Module):\n",
    "    def __init__(self, num_channels, height, width, n_actions):\n",
    "        super(NeuralNetwork, self).__init__()\n",
    "        \n",
    "        self.conv1 = nn.Conv2d(in_channels=num_channels, out_channels=16, kernel_size=(8, 8), stride=(1, 1))\n",
    "        self.conv2 = nn.Conv2d(in_channels=16, out_channels=16, kernel_size=(8, 8), stride=(1, 1))\n",
    "        self.conv3 = nn.Conv2d(in_channels=16, out_channels=4, kernel_size=(4, 4), stride=(1, 1))\n",
    "        self.pool = nn.MaxPool2d((2, 2))\n",
    "\n",
    "        self.fc_size = self.compute_fc_size(num_channels, height, width)\n",
    "\n",
    "        self.fc1 = nn.Linear(self.fc_size, 1024)\n",
    "        self.fc2 = nn.Linear(1024, 128)\n",
    "        self.fc3 = nn.Linear(128, 16)\n",
    "        self.fc4 = nn.Linear(16, n_actions)\n",
    "        \n",
    "    def compute_fc_size(self, num_channels, height, width):\n",
    "        # Применение сверточных и пулинг слоев для вычисления размера входа\n",
    "        x = torch.rand(1, num_channels, height, width)\n",
    "        x = self.pool(self.conv1(x))\n",
    "        x = self.pool(self.conv2(x))\n",
    "        x = self.pool(self.conv3(x))\n",
    "\n",
    "        # Вычисление размера входа для полносвязанного слоя\n",
    "        fc_size = x.view(1, -1).size(1)\n",
    "        return fc_size\n",
    "    \n",
    "    \n",
    "    def forward(self, x):\n",
    "\n",
    "        x = self.pool(self.conv1(x)) # F.RELU???\n",
    "        x = self.pool(self.conv2(x))\n",
    "        x = self.pool(self.conv3(x))\n",
    "\n",
    "        x = x.view(x.size(0), -1)\n",
    "\n",
    "        x = F.relu(self.fc1(x))\n",
    "        x = F.relu(self.fc2(x))\n",
    "        x = F.relu(self.fc3(x))\n",
    "        x = self.fc4(x)\n",
    "        \n",
    "        return x"
   ]
  },
  {
   "cell_type": "code",
   "execution_count": 8,
   "metadata": {},
   "outputs": [
    {
     "name": "stdout",
     "output_type": "stream",
     "text": [
      "tensor([[-0.2247,  0.1006, -0.1856,  0.0553,  0.1806,  0.0751,  0.0105]],\n",
      "       grad_fn=<AddmmBackward0>)\n"
     ]
    }
   ],
   "source": [
    "from PIL import Image \n",
    "\n",
    "\n",
    "def build_model(num_channels, height, width, n_actions):\n",
    "    model = NeuralNetwork(num_channels=num_channels, height=height, width=width, n_actions=n_actions)\n",
    "    return model\n",
    "\n",
    "model = build_model(num_channels, height, width, n_actions=n_actions)\n",
    "\n",
    "print(model(get_img_as_tensor(state).unsqueeze(0)))"
   ]
  },
  {
   "cell_type": "markdown",
   "metadata": {},
   "source": [
    "## Функция ошибки!!!!"
   ]
  },
  {
   "cell_type": "code",
   "execution_count": 9,
   "metadata": {},
   "outputs": [],
   "source": [
    "from IPython.display import clear_output\n",
    "from tqdm import trange\n",
    "\n",
    "def compute_td_loss(model, states, actions, rewards, next_states, is_done, gamma=0.99, check_shapes=False):\n",
    "    # print(states)\n",
    "    \"\"\" Compute td loss using torch operations only. Use the formula above. \"\"\"\n",
    "    states = torch.tensor(states, dtype=torch.float32)    # shape: [batch_size, state_size]\n",
    "    actions = torch.tensor(actions, dtype=torch.long)    # shape: [batch_size]\n",
    "    rewards = torch.tensor(rewards, dtype=torch.float32)  # shape: [batch_size]\n",
    "    next_states = torch.tensor(next_states, dtype=torch.float32) # shape: [batch_size, state_size]\n",
    "    is_done = torch.tensor(is_done, dtype=torch.uint8)  # shape: [batch_size]\n",
    "\n",
    "    # get q-values for all actions in current states\n",
    "    predicted_qvalues = model(states)\n",
    "\n",
    "    # select q-values for chosen actions\n",
    "    predicted_qvalues_for_actions = predicted_qvalues[\n",
    "      range(states.shape[0]), actions\n",
    "    ]\n",
    "\n",
    "    # compute q-values for all actions in next states\n",
    "    predicted_next_qvalues = model(next_states).detach()\n",
    "\n",
    "    # compute V*(next_states) using predicted next q-values\n",
    "    # print(predicted_next_qvalues)\n",
    "    next_state_values = torch.max(predicted_next_qvalues, 1)[0]\n",
    "    # print(next_state_values)\n",
    "\n",
    "    assert next_state_values.dtype == torch.float32\n",
    "\n",
    "    # compute \"target q-values\" for loss - it's what's inside square parentheses in the above formula.\n",
    "    target_qvalues_for_actions = rewards + gamma * next_state_values\n",
    "\n",
    "    # at the last state we shall use simplified formula: Q(s,a) = r(s,a) since s' doesn't exist\n",
    "    target_qvalues_for_actions = torch.where(\n",
    "        is_done, rewards, target_qvalues_for_actions)\n",
    "\n",
    "    # mean squared error loss to minimize\n",
    "    loss = torch.mean((predicted_qvalues_for_actions -\n",
    "                       target_qvalues_for_actions.detach()) ** 2)\n",
    "\n",
    "    if check_shapes:\n",
    "        assert predicted_next_qvalues.data.dim(\n",
    "        ) == 2, \"make sure you predicted q-values for all actions in next state\"\n",
    "        assert next_state_values.data.dim(\n",
    "        ) == 1, \"make sure you computed V(s') as maximum over just the actions axis and not all axes\"\n",
    "        assert target_qvalues_for_actions.data.dim(\n",
    "        ) == 1, \"there's something wrong with target q-values, they must be a vector\"\n",
    "\n",
    "    return loss"
   ]
  },
  {
   "cell_type": "markdown",
   "metadata": {},
   "source": [
    "## get action"
   ]
  },
  {
   "cell_type": "code",
   "execution_count": 10,
   "metadata": {},
   "outputs": [],
   "source": [
    "def get_action(model, state, epsilon=0):\n",
    "    \"\"\"\n",
    "    sample actions with epsilon-greedy policy\n",
    "    recap: with p = epsilon pick random action, else pick action with highest Q(s,a)\n",
    "    \"\"\"\n",
    "    state = get_img_as_tensor(state).unsqueeze(0)\n",
    "    q_values = model(state).detach().numpy()\n",
    "\n",
    "    if np.random.rand() < epsilon:\n",
    "        return np.random.choice(np.arange(0, n_actions))\n",
    "\n",
    "    return int(np.argmax(q_values))"
   ]
  },
  {
   "cell_type": "code",
   "execution_count": 11,
   "metadata": {},
   "outputs": [],
   "source": [
    "opt = torch.optim.Adam(model.parameters(), lr=5e-3)"
   ]
  },
  {
   "cell_type": "code",
   "execution_count": 12,
   "metadata": {},
   "outputs": [],
   "source": [
    "def generate_session(env, t_max=1000, epsilon=0, train=False):\n",
    "    \"\"\"play env with approximate q-learning agent and train it at the same time\"\"\"\n",
    "    total_reward = 0\n",
    "    state = env.reset()[0]\n",
    "\n",
    "    for t in range(t_max):\n",
    "        action = get_action(model, state, epsilon=epsilon)\n",
    "\n",
    "        next_state, reward, done, truncated, _ = env.step(action)\n",
    "\n",
    "        done = done or truncated\n",
    "     \n",
    "        if train:\n",
    "            opt.zero_grad()\n",
    "            compute_td_loss(model, get_img_as_tensor(state).unsqueeze(0), [action], [reward], get_img_as_tensor(next_state).unsqueeze(0), [done]).backward()\n",
    "            opt.step()\n",
    "\n",
    "        total_reward += reward\n",
    "        state = next_state\n",
    "        if done:\n",
    "            break\n",
    "\n",
    "    return total_reward"
   ]
  },
  {
   "cell_type": "markdown",
   "metadata": {},
   "source": [
    "Обучение нейронной сети."
   ]
  },
  {
   "cell_type": "code",
   "execution_count": 13,
   "metadata": {},
   "outputs": [
    {
     "name": "stderr",
     "output_type": "stream",
     "text": [
      "C:\\Users\\vinik\\AppData\\Local\\Temp\\ipykernel_53344\\3577241943.py:7: UserWarning: To copy construct from a tensor, it is recommended to use sourceTensor.clone().detach() or sourceTensor.clone().detach().requires_grad_(True), rather than torch.tensor(sourceTensor).\n",
      "  states = torch.tensor(states, dtype=torch.float32)    # shape: [batch_size, state_size]\n",
      "C:\\Users\\vinik\\AppData\\Local\\Temp\\ipykernel_53344\\3577241943.py:10: UserWarning: To copy construct from a tensor, it is recommended to use sourceTensor.clone().detach() or sourceTensor.clone().detach().requires_grad_(True), rather than torch.tensor(sourceTensor).\n",
      "  next_states = torch.tensor(next_states, dtype=torch.float32) # shape: [batch_size, state_size]\n",
      "C:\\Users\\vinik\\AppData\\Local\\Temp\\ipykernel_53344\\3577241943.py:35: UserWarning: where received a uint8 condition tensor. This behavior is deprecated and will be removed in a future version of PyTorch. Use a boolean condition instead. (Triggered internally at ..\\aten\\src\\ATen\\native\\TensorCompare.cpp:519.)\n",
      "  target_qvalues_for_actions = torch.where(\n"
     ]
    }
   ],
   "source": [
    "epsilon = 0.5\n",
    "from IPython.display import clear_output\n",
    "\n",
    "import matplotlib.pyplot as plt\n",
    "\n",
    "x = []\n",
    "y = []\n",
    "\n",
    "for i in range(1000):\n",
    "    session_rewards = [generate_session(env, epsilon=epsilon, train=True) for _ in range(100)]\n",
    "\n",
    "    clear_output(True)\n",
    "    print(\"epoch #{}\\tmean reward = {:.3f}\\tepsilon = {:.3f}\".format(i, np.mean(session_rewards), epsilon))\n",
    "\n",
    "    epsilon *= 0.99\n",
    "\n",
    "    if epsilon < 0.001:\n",
    "        epsilon = 0.1\n",
    "    assert epsilon >= 1e-4, \"Make sure epsilon is always nonzero during training\"\n",
    "\n",
    "    x.append(i)\n",
    "    y.append(np.mean(session_rewards))\n",
    "\n",
    "    plt.plot(x, y)\n",
    "    plt.show()\n",
    "\n",
    "    if np.mean(session_rewards) > 300:\n",
    "        print(\"You Win!\")\n",
    "        break"
   ]
  }
 ],
 "metadata": {
  "hide_input": false,
  "kernelspec": {
   "display_name": "Python 3 (ipykernel)",
   "language": "python",
   "name": "python3"
  },
  "language_info": {
   "codemirror_mode": {
    "name": "ipython",
    "version": 3
   },
   "file_extension": ".py",
   "mimetype": "text/x-python",
   "name": "python",
   "nbconvert_exporter": "python",
   "pygments_lexer": "ipython3",
   "version": "3.10.11"
  }
 },
 "nbformat": 4,
 "nbformat_minor": 2
}
