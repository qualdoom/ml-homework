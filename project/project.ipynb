{
 "cells": [
  {
   "cell_type": "code",
   "execution_count": 1,
   "metadata": {},
   "outputs": [],
   "source": [
    "# pip install gym==0.21"
   ]
  },
  {
   "cell_type": "code",
   "execution_count": 2,
   "metadata": {},
   "outputs": [
    {
     "data": {
      "text/plain": [
       "'0.21.0'"
      ]
     },
     "execution_count": 2,
     "metadata": {},
     "output_type": "execute_result"
    }
   ],
   "source": [
    "import gym\n",
    "import numpy as np\n",
    "\n",
    "env = gym.make(\"ALE/Assault-v5\", render_mode=\"human\")\n",
    "n_actions = env.action_space.n\n",
    "\n",
    "gym.version.VERSION"
   ]
  },
  {
   "cell_type": "code",
   "execution_count": 3,
   "metadata": {},
   "outputs": [],
   "source": [
    "def visualize(agent, t_max=10000):\n",
    "    env_show = gym.make(\"ALE/Assault-v5\", render_mode='human').env\n",
    "    \n",
    "    state = env_show.reset()[0]\n",
    "    \n",
    "    for t in range(t_max):\n",
    "        env_show.render()\n",
    "        \n",
    "        #predict with agent\n",
    "        \n",
    "        action = np.random.choice(np.arange(n_actions))\n",
    "        \n",
    "        x = env_show.step(action)\n",
    "        \n",
    "        new_state = x[0]\n",
    "        done = x[2]\n",
    "        \n",
    "        state = new_state\n",
    "        if done: \n",
    "            break\n",
    "    \n",
    "    \n",
    "    env_show.close()"
   ]
  },
  {
   "cell_type": "code",
   "execution_count": 5,
   "metadata": {},
   "outputs": [],
   "source": [
    "visualize(0)"
   ]
  }
 ],
 "metadata": {
  "kernelspec": {
   "display_name": "Python 3",
   "language": "python",
   "name": "python3"
  },
  "language_info": {
   "codemirror_mode": {
    "name": "ipython",
    "version": 3
   },
   "file_extension": ".py",
   "mimetype": "text/x-python",
   "name": "python",
   "nbconvert_exporter": "python",
   "pygments_lexer": "ipython3",
   "version": "3.10.11"
  }
 },
 "nbformat": 4,
 "nbformat_minor": 2
}
