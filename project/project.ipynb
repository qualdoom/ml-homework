{
 "cells": [
  {
   "cell_type": "code",
   "execution_count": 1,
   "metadata": {},
   "outputs": [],
   "source": [
    "# !pip install wheel==0.38.4\n",
    "# !pip install setuptools==65\n",
    "# !pip install gym==0.21\n",
    "# !pip list"
   ]
  },
  {
   "cell_type": "code",
   "execution_count": 2,
   "metadata": {},
   "outputs": [],
   "source": [
    "# for saving and training models\n",
    "\n",
    "loading = True\n",
    "training = False"
   ]
  },
  {
   "cell_type": "code",
   "execution_count": 3,
   "metadata": {},
   "outputs": [],
   "source": [
    "from IPython.display import clear_output\n",
    "from PIL import Image\n",
    "import matplotlib.pyplot as plt\n",
    "import gym\n",
    "import torch\n",
    "import numpy as np"
   ]
  },
  {
   "cell_type": "code",
   "execution_count": 4,
   "metadata": {},
   "outputs": [
    {
     "name": "stdout",
     "output_type": "stream",
     "text": [
      "n_actions= 7\n"
     ]
    },
    {
     "data": {
      "text/plain": [
       "'0.21.0'"
      ]
     },
     "execution_count": 4,
     "metadata": {},
     "output_type": "execute_result"
    }
   ],
   "source": [
    "env = gym.make(\"ALE/Assault-v5\").env\n",
    "\n",
    "n_actions = env.action_space.n # see more info in actions.txt\n",
    "\n",
    "print(\"n_actions=\", n_actions)\n",
    "\n",
    "gym.version.VERSION"
   ]
  },
  {
   "cell_type": "code",
   "execution_count": 5,
   "metadata": {},
   "outputs": [
    {
     "data": {
      "text/plain": [
       "<matplotlib.image.AxesImage at 0x28ec73f84f0>"
      ]
     },
     "execution_count": 5,
     "metadata": {},
     "output_type": "execute_result"
    },
    {
     "data": {
      "image/png": "[encoded data removed]",
      "text/plain": [
       "<Figure size 640x480 with 1 Axes>"
      ]
     },
     "metadata": {},
     "output_type": "display_data"
    }
   ],
   "source": [
    "import matplotlib.pyplot as plt\n",
    "\n",
    "state = env.reset() # state - здесь изображение\n",
    "\n",
    "height, width, num_channels = state.shape\n",
    "\n",
    "plt.imshow(state) # здесь можно убрать лишние пиксели, но пока пофиг"
   ]
  },
  {
   "cell_type": "markdown",
   "metadata": {},
   "source": [
    "Архитектура Нейронной сети"
   ]
  },
  {
   "cell_type": "code",
   "execution_count": 6,
   "metadata": {},
   "outputs": [],
   "source": [
    "# реализована в файлах Model.py and Agent.py\n",
    "\n",
    "import Model\n",
    "from Agent import Agent, get_img_as_tensor\n",
    "\n",
    "agent = Agent(num_channels=num_channels, height=height, width=width, n_actions=n_actions) "
   ]
  },
  {
   "cell_type": "code",
   "execution_count": 7,
   "metadata": {},
   "outputs": [
    {
     "name": "stdout",
     "output_type": "stream",
     "text": [
      "tensor([[-0.1023,  0.1041, -0.1734, -0.0472, -0.0918,  0.1647, -0.2455]],\n",
      "       grad_fn=<AddmmBackward0>)\n"
     ]
    }
   ],
   "source": [
    "from PIL import Image \n",
    "\n",
    "print(agent.model(get_img_as_tensor(state).unsqueeze(0)))"
   ]
  },
  {
   "cell_type": "markdown",
   "metadata": {},
   "source": [
    "## Функция ошибки!!!!"
   ]
  },
  {
   "cell_type": "code",
   "execution_count": 8,
   "metadata": {},
   "outputs": [],
   "source": [
    "from IPython.display import clear_output\n",
    "from tqdm import trange"
   ]
  },
  {
   "cell_type": "markdown",
   "metadata": {},
   "source": [
    "## get action"
   ]
  },
  {
   "cell_type": "code",
   "execution_count": 9,
   "metadata": {},
   "outputs": [],
   "source": [
    "# realized in Agent.get_action"
   ]
  },
  {
   "cell_type": "code",
   "execution_count": 10,
   "metadata": {},
   "outputs": [],
   "source": [
    "cnt = 0\n",
    "losses = []\n",
    "L = []\n",
    "\n",
    "def generate_session(env, agent, t_max=1000, epsilon=0, train=False):\n",
    "    \"\"\"play env with approximate q-learning agent and train it at the same time\"\"\"\n",
    "    total_reward = 0\n",
    "    state = env.reset()[0]\n",
    "\n",
    "    states = []\n",
    "    actions = []\n",
    "    rewards = []\n",
    "    next_states = []\n",
    "    dones = []\n",
    "\n",
    "    for t in range(t_max):\n",
    "        action = agent.get_action(state, epsilon=epsilon)\n",
    "\n",
    "        next_state, reward, done, truncated, _ = env.step(action)\n",
    "\n",
    "        done = done or truncated\n",
    "     \n",
    "        if train:\n",
    "            states.append(get_img_as_tensor(state))\n",
    "            actions.append(action)\n",
    "            rewards.append(reward)\n",
    "            next_states.append(get_img_as_tensor(next_state))\n",
    "            dones.append(done)\n",
    "            # compute_td_loss(model, get_img_as_tensor(state).unsqueeze(0), [action], [reward], get_img_as_tensor(next_state).unsqueeze(0), [done]).backward()\n",
    "\n",
    "            # opt.step()\n",
    "\n",
    "        total_reward += reward\n",
    "        state = next_state\n",
    "        if done:\n",
    "            break\n",
    "    \n",
    "    states = torch.stack(states, dim=0)\n",
    "    next_states = torch.stack(next_states, dim=0)\n",
    "    # print(torch.stack(states))\n",
    "    \n",
    "    L.append(agent.step(states, actions, rewards, next_states, dones).detach().numpy())\n",
    "    \n",
    "    return total_reward"
   ]
  },
  {
   "cell_type": "markdown",
   "metadata": {},
   "source": [
    "Обучение нейронной сети."
   ]
  },
  {
   "cell_type": "code",
   "execution_count": 11,
   "metadata": {},
   "outputs": [],
   "source": [
    "from IPython.display import clear_output\n",
    "\n",
    "import matplotlib.pyplot as plt\n",
    "\n",
    "x = []\n",
    "y = []\n",
    "\n",
    "\n",
    "if loading:\n",
    "    losses = np.load(\"loss_mean.npy\",allow_pickle=True).tolist()\n",
    "    y = np.load(\"reward_mean.npy\",allow_pickle=True).tolist()\n",
    "    x = np.load(\"log.npy\",allow_pickle=True).tolist()\n",
    "    agent.load()\n",
    "\n",
    "if training:\n",
    "    for i in range(1000):\n",
    "        if i % 2 == 1:\n",
    "            agent.save()\n",
    "            np.save(\"loss_mean.npy\", losses)\n",
    "            np.save(\"reward_mean.npy\", y)\n",
    "            np.save(\"log.npy\", x)\n",
    "        \n",
    "        session_rewards = [generate_session(env=env, agent=agent, epsilon=agent.epsilon, train=True) for _ in trange(10)]\n",
    "        losses.append(np.mean(L))\n",
    "        L = []\n",
    "\n",
    "        clear_output(True)\n",
    "        print(\"epoch #{}\\tmean reward = {:.3f}\\tepsilon = {:.3f}\".format(i, np.mean(session_rewards), agent.epsilon))\n",
    "\n",
    "        agent.epsilon *= 0.99\n",
    "\n",
    "        if agent.epsilon < 0.001:\n",
    "            agent.epsilon = 0.1\n",
    "        assert agent.epsilon >= 1e-4, \"Make sure epsilon is always nonzero during training\"\n",
    "\n",
    "        x.append(len(x))\n",
    "        y.append(np.mean(session_rewards))\n",
    "\n",
    "        fig, axs = plt.subplots(ncols=2)\n",
    "        \n",
    "        axs[0].set_title(\"Reward\")\n",
    "        axs[0].plot(x, y)\n",
    "\n",
    "        axs[1].set_title(\"Loss\")\n",
    "        axs[1].plot(x, losses)\n",
    "\n",
    "        plt.show()"
   ]
  },
  {
   "cell_type": "code",
   "execution_count": 13,
   "metadata": {},
   "outputs": [
    {
     "ename": "TypeError",
     "evalue": "AtariEnv.render() missing 1 required positional argument: 'mode'",
     "output_type": "error",
     "traceback": [
      "\u001b[1;31m---------------------------------------------------------------------------\u001b[0m",
      "\u001b[1;31mTypeError\u001b[0m                                 Traceback (most recent call last)",
      "\u001b[1;32mc:\\Users\\vinik\\Githubik\\ml-homework\\project\\project.ipynb Ячейка 16\u001b[0m line \u001b[0;36m4\n\u001b[0;32m      <a href='vscode-notebook-cell:/c%3A/Users/vinik/Githubik/ml-homework/project/project.ipynb#X20sZmlsZQ%3D%3D?line=0'>1</a>\u001b[0m \u001b[39mfrom\u001b[39;00m \u001b[39mvisualizing\u001b[39;00m \u001b[39mimport\u001b[39;00m visualize\n\u001b[0;32m      <a href='vscode-notebook-cell:/c%3A/Users/vinik/Githubik/ml-homework/project/project.ipynb#X20sZmlsZQ%3D%3D?line=2'>3</a>\u001b[0m \u001b[39m# agent.model.parameters\u001b[39;00m\n\u001b[1;32m----> <a href='vscode-notebook-cell:/c%3A/Users/vinik/Githubik/ml-homework/project/project.ipynb#X20sZmlsZQ%3D%3D?line=3'>4</a>\u001b[0m visualize(agent)\n",
      "File \u001b[1;32mc:\\Users\\vinik\\Githubik\\ml-homework\\project\\visualizing.py:13\u001b[0m, in \u001b[0;36mvisualize\u001b[1;34m(agent, t_max)\u001b[0m\n\u001b[0;32m     10\u001b[0m state \u001b[39m=\u001b[39m env_show\u001b[39m.\u001b[39mreset()\n\u001b[0;32m     12\u001b[0m \u001b[39mfor\u001b[39;00m t \u001b[39min\u001b[39;00m \u001b[39mrange\u001b[39m(t_max):\n\u001b[1;32m---> 13\u001b[0m     env_show\u001b[39m.\u001b[39;49mrender()\n\u001b[0;32m     15\u001b[0m     \u001b[39m#predict with agent\u001b[39;00m\n\u001b[0;32m     17\u001b[0m     \u001b[39mprint\u001b[39m(state)\n",
      "\u001b[1;31mTypeError\u001b[0m: AtariEnv.render() missing 1 required positional argument: 'mode'"
     ]
    }
   ],
   "source": [
    "from visualizing import visualize\n",
    "\n",
    "# agent.model.parameters\n",
    "# visualize(agent)"
   ]
  }
 ],
 "metadata": {
  "hide_input": false,
  "kernelspec": {
   "display_name": "Python 3 (ipykernel)",
   "language": "python",
   "name": "python3"
  },
  "language_info": {
   "codemirror_mode": {
    "name": "ipython",
    "version": 3
   },
   "file_extension": ".py",
   "mimetype": "text/x-python",
   "name": "python",
   "nbconvert_exporter": "python",
   "pygments_lexer": "ipython3",
   "version": "3.10.11"
  }
 },
 "nbformat": 4,
 "nbformat_minor": 2
}
