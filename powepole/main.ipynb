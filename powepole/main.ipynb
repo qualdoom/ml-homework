{
 "cells": [
  {
   "cell_type": "markdown",
   "metadata": {},
   "source": [
    "## Setup and import some libraries"
   ]
  },
  {
   "cell_type": "code",
   "execution_count": 1,
   "metadata": {
    "code_folding": [],
    "is_executing": true
   },
   "outputs": [],
   "source": [
    "# !pip install wheel==0.38.4\n",
    "# !pip install setuptools==65\n",
    "# !pip install gym==0.21\n",
    "# !pip install torchrl\n",
    "# pip install stable-baselines3[extra]\n",
    "# !pip install torchvision\n",
    "# !pip install gym==0.21\n",
    "# !pip install --upgrade ipykernel\n",
    "# !pip install matplotlib\n",
    "# !pip install gym[atari,accept-rom-license]==0.21.0\n",
    "# !pip install joblib\n",
    "# !pip install tqdm"
   ]
  },
  {
   "cell_type": "markdown",
   "metadata": {},
   "source": [
    "## Подключение библиотек"
   ]
  },
  {
   "cell_type": "code",
   "execution_count": 2,
   "metadata": {
    "code_folding": []
   },
   "outputs": [
    {
     "name": "stdout",
     "output_type": "stream",
     "text": [
      "cpu\n"
     ]
    }
   ],
   "source": [
    "# hide imports\n",
    "from IPython.display import clear_output\n",
    "from PIL import Image\n",
    "import matplotlib.pyplot as plt\n",
    "import gym\n",
    "import torchvision\n",
    "import numpy as np\n",
    "import torchrl\n",
    "import torch\n",
    "import tqdm\n",
    "from torchrl.envs import *\n",
    "from torchrl.envs.libs.gym import *\n",
    "from joblib import Parallel, delayed\n",
    "import warnings\n",
    "from multiprocessing import Pool\n",
    "from agent import Agent\n",
    "from constants import *\n",
    "warnings.filterwarnings('ignore')\n",
    "\n",
    "random_seed = 21\n",
    "\n",
    "torch.manual_seed(random_seed)\n",
    "np.random.seed(random_seed)\n",
    "\n",
    "device = torch.device(\"cuda\" if torch.cuda.is_available() else \"cpu\")\n",
    "\n",
    "print(device)"
   ]
  },
  {
   "cell_type": "markdown",
   "metadata": {},
   "source": [
    "Версия gym"
   ]
  },
  {
   "cell_type": "code",
   "execution_count": 3,
   "metadata": {},
   "outputs": [
    {
     "data": {
      "text/plain": [
       "'0.21.0'"
      ]
     },
     "execution_count": 3,
     "metadata": {},
     "output_type": "execute_result"
    }
   ],
   "source": [
    "gym.version.VERSION"
   ]
  },
  {
   "cell_type": "markdown",
   "metadata": {},
   "source": [
    "# Действие игры происходит в среде gym \"Assault\"\n",
    "\n",
    "Давайте поменяем нашу среду для лучшего обучения.\n",
    "\n",
    "Во-первых сделаем resize картинки до размера 64x64 (W = 64, H = 64).\n",
    "Во-вторых переведем ее в черно-белое изображение.\n",
    "В-третьих Добавим frameskip в 4 кадра.\n",
    "\n",
    "Для этого воспользуемся классом TransformedEnv из torchrl."
   ]
  },
  {
   "cell_type": "code",
   "execution_count": 4,
   "metadata": {
    "code_folding": []
   },
   "outputs": [
    {
     "name": "stdout",
     "output_type": "stream",
     "text": [
      "n_actions = 2\n"
     ]
    }
   ],
   "source": [
    "#hide changing environment\n",
    "\n",
    "_env = gym.make(\"CartPole-v1\").env\n",
    "\n",
    "n_actions = _env.action_space.n # see more info in actions.txt\n",
    "\n",
    "print(\"n_actions =\", n_actions)\n",
    "\n",
    "from torchrl.envs import *\n",
    "from torchrl.envs.libs.gym import *\n",
    "\n",
    "\n",
    "env = TransformedEnv(\n",
    "    GymEnv(\"CartPole-v1\", from_pixels=True),\n",
    "    Compose(\n",
    "        ToTensorImage(in_keys=[\"pixels\"], out_keys=[\"pixels_trsf\"]),\n",
    "        Resize(in_keys=[\"pixels_trsf\"], w=W, h=H),\n",
    "        GrayScale(in_keys=[\"pixels_trsf\"]),\n",
    "        FrameSkipTransform(1), \n",
    "        ExcludeTransform(\"pixels\")\n",
    "    ),\n",
    ").to(device)"
   ]
  },
  {
   "cell_type": "markdown",
   "metadata": {},
   "source": [
    "Как мы видим state это TensorDict, состоящий из нескольких параметров, в том числе done, pixels_trsf (Измененное изображение), terminated, truncated."
   ]
  },
  {
   "cell_type": "code",
   "execution_count": 5,
   "metadata": {},
   "outputs": [
    {
     "name": "stdout",
     "output_type": "stream",
     "text": [
      "TensorDict(\n",
      "    fields={\n",
      "        done: Tensor(shape=torch.Size([1]), device=cpu, dtype=torch.bool, is_shared=False),\n",
      "        pixels_trsf: Tensor(shape=torch.Size([1, 84, 84]), device=cpu, dtype=torch.float32, is_shared=False),\n",
      "        terminated: Tensor(shape=torch.Size([1]), device=cpu, dtype=torch.bool, is_shared=False),\n",
      "        truncated: Tensor(shape=torch.Size([1]), device=cpu, dtype=torch.bool, is_shared=False)},\n",
      "    batch_size=torch.Size([]),\n",
      "    device=cpu,\n",
      "    is_shared=False)\n"
     ]
    }
   ],
   "source": [
    "state = env.reset()\n",
    "\n",
    "print(state)"
   ]
  },
  {
   "cell_type": "markdown",
   "metadata": {},
   "source": [
    "## Посмотрим, как выглядит изменная среда"
   ]
  },
  {
   "cell_type": "code",
   "execution_count": 6,
   "metadata": {},
   "outputs": [
    {
     "name": "stdout",
     "output_type": "stream",
     "text": [
      "torch.Size([1, 84, 84])\n"
     ]
    },
    {
     "data": {
      "text/plain": [
       "<matplotlib.image.AxesImage at 0x15372add930>"
      ]
     },
     "execution_count": 6,
     "metadata": {},
     "output_type": "execute_result"
    },
    {
     "data": {
      "image/png": "[encoded data removed]",
      "text/plain": [
       "<Figure size 640x480 with 1 Axes>"
      ]
     },
     "metadata": {},
     "output_type": "display_data"
    }
   ],
   "source": [
    "state = env.reset()\n",
    "\n",
    "print(state['pixels_trsf'].shape)\n",
    "\n",
    "plt.imshow(state['pixels_trsf'].cpu().permute(1, 2, 0), cmap=\"gray\")"
   ]
  },
  {
   "cell_type": "markdown",
   "metadata": {},
   "source": [
    "# Обучаем агента\n",
    "\n",
    "### Для обучения агента я использую:\n",
    "  * Нейронную сеть, состоящую из сверточных и полносвязных слоев. (Подробнее смотри файл network.py)\n",
    "  * Реплей с приоритетами (TensorDictReplayBuffer) размера SIZE = 20000.\n",
    "  * Optimizer - Adam\n",
    "  * Для пересчета в Q-формуле использую target_network, которую обновляю каждые 30000 фреймов.\n",
    "  \n",
    "Для подробностей см. файл agent.py\n",
    "Также есть возможность загрузки и сохранения агента."
   ]
  },
  {
   "cell_type": "code",
   "execution_count": 7,
   "metadata": {},
   "outputs": [
    {
     "name": "stdout",
     "output_type": "stream",
     "text": [
      "Size of layer after convolution layers 784\n",
      "Size of layer after convolution layers 784\n"
     ]
    }
   ],
   "source": [
    "# создаем агента\n",
    "agent = Agent(num_channels=NUM_CHANNELS, width=W, height=H, n_actions=n_actions)"
   ]
  },
  {
   "cell_type": "markdown",
   "metadata": {},
   "source": [
    "Добавим для наглядности графики"
   ]
  },
  {
   "cell_type": "code",
   "execution_count": 8,
   "metadata": {
    "code_folding": [
     0
    ]
   },
   "outputs": [],
   "source": [
    "#hide plot\n",
    "def plot(agent):\n",
    "    clear_output(True)\n",
    "    plt.figure(figsize=(20, 20))\n",
    "    \n",
    "    plt.subplot(221)\n",
    "    plt.title('Rewards per frames')\n",
    "    plt.xlabel(\"Frames\")\n",
    "    plt.ylabel(\"Reward\")\n",
    "    plt.plot(agent.frames, agent.reward_history, color='blue')\n",
    "    \n",
    "    plt.subplot(222)\n",
    "    plt.title('Loss per frames')\n",
    "    plt.xlabel(\"Frames\")\n",
    "    plt.ylabel(\"Loss\")\n",
    "    plt.plot(agent.frames, agent.loss_history, color='orange')\n",
    "    \n",
    "    plt.subplot(223)\n",
    "    plt.title('Rewards per last 100 sessions')\n",
    "    plt.xlabel(\"Sessions\")\n",
    "    plt.ylabel(\"Reward\")\n",
    "    plt.plot(agent.reward_history[-100:], color='blue')\n",
    "    \n",
    "    plt.subplot(224)\n",
    "    plt.title('Loss per last 100 sessions')\n",
    "    plt.xlabel(\"Sessions\")\n",
    "    plt.ylabel(\"Loss\")\n",
    "    plt.plot(agent.loss_history[-100:], color='orange')\n",
    "    plt.show()"
   ]
  },
  {
   "cell_type": "markdown",
   "metadata": {},
   "source": [
    "Играем сессию и записываем в агента опыт"
   ]
  },
  {
   "cell_type": "code",
   "execution_count": 9,
   "metadata": {
    "code_folding": []
   },
   "outputs": [],
   "source": [
    "# hide session\n",
    "def play_session(agent, t_max=(int)(1e5), epsilon=0):\n",
    "    env = TransformedEnv(\n",
    "    GymEnv(\"CartPole-v1\", from_pixels=True),\n",
    "    Compose(\n",
    "        ToTensorImage(in_keys=[\"pixels\"], out_keys=[\"pixels_trsf\"]),\n",
    "        Resize(in_keys=[\"pixels_trsf\"], w=W, h=H),\n",
    "        GrayScale(in_keys=[\"pixels_trsf\"]),\n",
    "        FrameSkipTransform(1), \n",
    "        ExcludeTransform(\"pixels\")\n",
    "    )).to(device)\n",
    "\n",
    "    total_reward = 0\n",
    "    state = env.reset()\n",
    "    \n",
    "    frames = 0\n",
    "    L = 0\n",
    "\n",
    "    for t in range(t_max):\n",
    "        action = agent.select_action(state['pixels_trsf'], epsilon=epsilon)\n",
    "\n",
    "        state['action'] = torch.zeros(n_actions)\n",
    "        state['action'][action] = 1\n",
    "\n",
    "        next_state = env.step(state)['next']\n",
    "\n",
    "        next_state['done'] = next_state['done'] + next_state['terminated'] + next_state['truncated']\n",
    "        next_state.pop('truncated', None)\n",
    "        next_state.pop('terminated', None)\n",
    "        state['next'] = next_state\n",
    "\n",
    "        _action = torch.zeros(n_actions)\n",
    "        _action[action] = 1\n",
    "        print(_action)\n",
    "        print(state)\n",
    "        print(next_state)\n",
    "\n",
    "\n",
    "        agent.optimizer.zero_grad()\n",
    "        print(agent.compute_loss([state['pixels_trsf']], np.asarray([_action]), [next_state['reward']], [next_state['pixels_trsf']], [next_state['done']]))\n",
    "        loss = agent.compute_loss([state['pixels_trsf']], np.asarray([_action]), [next_state['reward']], [next_state['pixels_trsf']], [next_state['done']])\n",
    "\n",
    "        value = loss.detach()\n",
    "        L += value\n",
    "\n",
    "        loss.backward()\n",
    "        agent.optimizer.step()\n",
    "\n",
    "\n",
    "        total_reward += next_state['reward']\n",
    "\n",
    "        state = next_state\n",
    "        \n",
    "        frames += 1\n",
    "\n",
    "        if next_state['done']:\n",
    "            break\n",
    "    \n",
    "    return total_reward, frames, L / frames"
   ]
  },
  {
   "cell_type": "markdown",
   "metadata": {},
   "source": [
    "### Выбираем будем ли тренироваться и загружаться"
   ]
  },
  {
   "cell_type": "code",
   "execution_count": 10,
   "metadata": {},
   "outputs": [],
   "source": [
    "loading = False\n",
    "training = True\n",
    "batch_size = 256"
   ]
  },
  {
   "cell_type": "code",
   "execution_count": 11,
   "metadata": {
    "code_folding": []
   },
   "outputs": [
    {
     "name": "stdout",
     "output_type": "stream",
     "text": [
      "preparing (add random states to replay buffer)\n"
     ]
    },
    {
     "name": "stderr",
     "output_type": "stream",
     "text": [
      "  0%|          | 0/300 [00:00<?, ?it/s]"
     ]
    },
    {
     "name": "stdout",
     "output_type": "stream",
     "text": [
      "tensor([1., 0.])\n",
      "TensorDict(\n",
      "    fields={\n",
      "        action: Tensor(shape=torch.Size([2]), device=cpu, dtype=torch.float32, is_shared=False),\n",
      "        done: Tensor(shape=torch.Size([1]), device=cpu, dtype=torch.bool, is_shared=False),\n",
      "        next: TensorDict(\n",
      "            fields={\n",
      "                done: Tensor(shape=torch.Size([1]), device=cpu, dtype=torch.bool, is_shared=False),\n",
      "                pixels_trsf: Tensor(shape=torch.Size([1, 84, 84]), device=cpu, dtype=torch.float32, is_shared=False),\n",
      "                reward: Tensor(shape=torch.Size([1]), device=cpu, dtype=torch.float32, is_shared=False)},\n",
      "            batch_size=torch.Size([]),\n",
      "            device=cpu,\n",
      "            is_shared=False),\n",
      "        pixels_trsf: Tensor(shape=torch.Size([1, 84, 84]), device=cpu, dtype=torch.float32, is_shared=False),\n",
      "        terminated: Tensor(shape=torch.Size([1]), device=cpu, dtype=torch.bool, is_shared=False),\n",
      "        truncated: Tensor(shape=torch.Size([1]), device=cpu, dtype=torch.bool, is_shared=False)},\n",
      "    batch_size=torch.Size([]),\n",
      "    device=cpu,\n",
      "    is_shared=False)\n",
      "TensorDict(\n",
      "    fields={\n",
      "        done: Tensor(shape=torch.Size([1]), device=cpu, dtype=torch.bool, is_shared=False),\n",
      "        pixels_trsf: Tensor(shape=torch.Size([1, 84, 84]), device=cpu, dtype=torch.float32, is_shared=False),\n",
      "        reward: Tensor(shape=torch.Size([1]), device=cpu, dtype=torch.float32, is_shared=False)},\n",
      "    batch_size=torch.Size([]),\n",
      "    device=cpu,\n",
      "    is_shared=False)\n"
     ]
    },
    {
     "name": "stderr",
     "output_type": "stream",
     "text": [
      "\n"
     ]
    },
    {
     "ename": "ValueError",
     "evalue": "only one element tensors can be converted to Python scalars",
     "output_type": "error",
     "traceback": [
      "\u001b[1;31m---------------------------------------------------------------------------\u001b[0m",
      "\u001b[1;31mValueError\u001b[0m                                Traceback (most recent call last)",
      "Cell \u001b[1;32mIn[11], line 10\u001b[0m\n\u001b[0;32m      8\u001b[0m \u001b[38;5;28;01mif\u001b[39;00m \u001b[38;5;129;01mnot\u001b[39;00m loading:\n\u001b[0;32m      9\u001b[0m     \u001b[38;5;28;01mfor\u001b[39;00m i \u001b[38;5;129;01min\u001b[39;00m tqdm\u001b[38;5;241m.\u001b[39mtqdm(\u001b[38;5;28mrange\u001b[39m(\u001b[38;5;241m300\u001b[39m)):\n\u001b[1;32m---> 10\u001b[0m         \u001b[43mplay_session\u001b[49m\u001b[43m(\u001b[49m\u001b[43magent\u001b[49m\u001b[43m,\u001b[49m\u001b[43m \u001b[49m\u001b[43mepsilon\u001b[49m\u001b[38;5;241;43m=\u001b[39;49m\u001b[38;5;241;43m1\u001b[39;49m\u001b[43m)\u001b[49m\n\u001b[0;32m     11\u001b[0m \u001b[38;5;28;01melse\u001b[39;00m:\n\u001b[0;32m     12\u001b[0m     \u001b[38;5;28;01mfor\u001b[39;00m i \u001b[38;5;129;01min\u001b[39;00m tqdm\u001b[38;5;241m.\u001b[39mtqdm(\u001b[38;5;28mrange\u001b[39m(\u001b[38;5;241m20\u001b[39m)):\n",
      "Cell \u001b[1;32mIn[9], line 40\u001b[0m, in \u001b[0;36mplay_session\u001b[1;34m(agent, t_max, epsilon)\u001b[0m\n\u001b[0;32m     36\u001b[0m \u001b[38;5;28mprint\u001b[39m(next_state)\n\u001b[0;32m     39\u001b[0m agent\u001b[38;5;241m.\u001b[39moptimizer\u001b[38;5;241m.\u001b[39mzero_grad()\n\u001b[1;32m---> 40\u001b[0m \u001b[38;5;28mprint\u001b[39m(agent\u001b[38;5;241m.\u001b[39mcompute_loss([state[\u001b[38;5;124m'\u001b[39m\u001b[38;5;124mpixels_trsf\u001b[39m\u001b[38;5;124m'\u001b[39m]], \u001b[43mnp\u001b[49m\u001b[38;5;241;43m.\u001b[39;49m\u001b[43masarray\u001b[49m\u001b[43m(\u001b[49m\u001b[43m[\u001b[49m\u001b[43m_action\u001b[49m\u001b[43m]\u001b[49m\u001b[43m)\u001b[49m, [next_state[\u001b[38;5;124m'\u001b[39m\u001b[38;5;124mreward\u001b[39m\u001b[38;5;124m'\u001b[39m]], [next_state[\u001b[38;5;124m'\u001b[39m\u001b[38;5;124mpixels_trsf\u001b[39m\u001b[38;5;124m'\u001b[39m]], [next_state[\u001b[38;5;124m'\u001b[39m\u001b[38;5;124mdone\u001b[39m\u001b[38;5;124m'\u001b[39m]]))\n\u001b[0;32m     41\u001b[0m loss \u001b[38;5;241m=\u001b[39m agent\u001b[38;5;241m.\u001b[39mcompute_loss([state[\u001b[38;5;124m'\u001b[39m\u001b[38;5;124mpixels_trsf\u001b[39m\u001b[38;5;124m'\u001b[39m]], np\u001b[38;5;241m.\u001b[39masarray([_action]), [next_state[\u001b[38;5;124m'\u001b[39m\u001b[38;5;124mreward\u001b[39m\u001b[38;5;124m'\u001b[39m]], [next_state[\u001b[38;5;124m'\u001b[39m\u001b[38;5;124mpixels_trsf\u001b[39m\u001b[38;5;124m'\u001b[39m]], [next_state[\u001b[38;5;124m'\u001b[39m\u001b[38;5;124mdone\u001b[39m\u001b[38;5;124m'\u001b[39m]])\n\u001b[0;32m     43\u001b[0m value \u001b[38;5;241m=\u001b[39m loss\u001b[38;5;241m.\u001b[39mdetach()\n",
      "\u001b[1;31mValueError\u001b[0m: only one element tensors can be converted to Python scalars"
     ]
    }
   ],
   "source": [
    "if training:\n",
    "    if loading:\n",
    "        agent.load()\n",
    "\n",
    "    agent.save()\n",
    "\n",
    "    print(\"preparing (add random states to replay buffer)\")\n",
    "    if not loading:\n",
    "        for i in tqdm.tqdm(range(300)):\n",
    "            play_session(agent, epsilon=1)\n",
    "    else:\n",
    "        for i in tqdm.tqdm(range(20)):\n",
    "            play_session(agent, epsilon=agent.epsilon)\n",
    "    \n",
    "    epoch = 0\n",
    "    while True:\n",
    "        rewards_for_session, count_frames, Loss = play_session(agent, t_max=(int)(agent.t_max), epsilon=agent.epsilon)\n",
    "        rewards_for_session = np.asarray(torch.as_tensor(rewards_for_session).cpu())\n",
    "        \n",
    "        agent.epsilon *= 0.996\n",
    "\n",
    "        # loss = agent.train(batch_size)\n",
    "        agent.loss_history.append(Loss)\n",
    "        agent.reward_history.append(np.mean(rewards_for_session))\n",
    "        last_frames = 0\n",
    "        if len(agent.frames) != 0:\n",
    "            last_frames = agent.frames[-1]\n",
    "        agent.frames.append(last_frames + count_frames)\n",
    "        clear_output(True)\n",
    "        \n",
    "        plot(agent)\n",
    "        print(\"for frame = \", last_frames + count_frames, \", epsilon = \", agent.epsilon)\n",
    "\n",
    "\n",
    "        if agent.epsilon < 0.1:\n",
    "            agent.epsilon = 0.12\n",
    "        \n",
    "        agent.t_max *= 1.01\n",
    "        epoch += 1\n",
    "        agent.t_max = min(agent.t_max, (int)(4e4))\n",
    "\n",
    "        if epoch % 10 == 1:\n",
    "            agent.save()\n",
    "            print('saved successfully')     "
   ]
  },
  {
   "cell_type": "code",
   "execution_count": null,
   "metadata": {},
   "outputs": [],
   "source": [
    "if not training:\n",
    "    pass # lets see result!"
   ]
  }
 ],
 "metadata": {
  "hide_input": false,
  "kernelspec": {
   "display_name": "Python 3 (ipykernel)",
   "language": "python",
   "name": "python3"
  },
  "language_info": {
   "codemirror_mode": {
    "name": "ipython",
    "version": 3
   },
   "file_extension": ".py",
   "mimetype": "text/x-python",
   "name": "python",
   "nbconvert_exporter": "python",
   "pygments_lexer": "ipython3",
   "version": "3.10.11"
  }
 },
 "nbformat": 4,
 "nbformat_minor": 2
}
