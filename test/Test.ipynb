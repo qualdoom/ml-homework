{
 "cells": [
  {
   "cell_type": "code",
   "execution_count": 1,
   "id": "0470923b",
   "metadata": {},
   "outputs": [],
   "source": [
    "# !pip install wheel==0.38.4\n",
    "# !pip install setuptools==65\n",
    "# !pip install gym==0.21\n",
    "# !pip install torchrl\n",
    "# pip install stable-baselines3[extra]\n",
    "# !pip install torchvision\n",
    "# !pip install gym==0.21"
   ]
  },
  {
   "cell_type": "code",
   "execution_count": 2,
   "id": "bf9b14a9",
   "metadata": {},
   "outputs": [],
   "source": [
    "from IPython.display import clear_output\n",
    "from PIL import Image\n",
    "import matplotlib.pyplot as plt\n",
    "import gym\n",
    "import torchvision\n",
    "import torch\n",
    "import numpy as np\n",
    "import torchrl"
   ]
  },
  {
   "cell_type": "code",
   "execution_count": 3,
   "id": "1fcad31b",
   "metadata": {},
   "outputs": [
    {
     "data": {
      "text/plain": [
       "'0.21.0'"
      ]
     },
     "execution_count": 3,
     "metadata": {},
     "output_type": "execute_result"
    }
   ],
   "source": [
    "gym.version.VERSION\n"
   ]
  },
  {
   "cell_type": "code",
   "execution_count": 4,
   "id": "93111744",
   "metadata": {},
   "outputs": [
    {
     "name": "stdout",
     "output_type": "stream",
     "text": [
      "n_actions= 7\n"
     ]
    },
    {
     "name": "stderr",
     "output_type": "stream",
     "text": [
      "C:\\Users\\vinik\\AppData\\Local\\Packages\\PythonSoftwareFoundation.Python.3.10_qbz5n2kfra8p0\\LocalCache\\local-packages\\Python310\\site-packages\\gymnasium\\core.py:311: UserWarning: \u001b[33mWARN: env.num_envs to get variables from other wrappers is deprecated and will be removed in v1.0, to get this variable you can do `env.unwrapped.num_envs` for environment variables or `env.get_wrapper_attr('num_envs')` that will search the reminding wrappers.\u001b[0m\n",
      "  logger.warn(\n",
      "C:\\Users\\vinik\\AppData\\Local\\Packages\\PythonSoftwareFoundation.Python.3.10_qbz5n2kfra8p0\\LocalCache\\local-packages\\Python310\\site-packages\\gymnasium\\core.py:311: UserWarning: \u001b[33mWARN: env.reward_space to get variables from other wrappers is deprecated and will be removed in v1.0, to get this variable you can do `env.unwrapped.reward_space` for environment variables or `env.get_wrapper_attr('reward_space')` that will search the reminding wrappers.\u001b[0m\n",
      "  logger.warn(\n"
     ]
    },
    {
     "name": "stdout",
     "output_type": "stream",
     "text": [
      "TensorDict(\n",
      "    fields={\n",
      "        done: Tensor(shape=torch.Size([1]), device=cpu, dtype=torch.bool, is_shared=False),\n",
      "        pixels: Tensor(shape=torch.Size([210, 160, 3]), device=cpu, dtype=torch.uint8, is_shared=False),\n",
      "        pixels_trsf: Tensor(shape=torch.Size([1, 64, 64]), device=cpu, dtype=torch.float32, is_shared=False),\n",
      "        terminated: Tensor(shape=torch.Size([1]), device=cpu, dtype=torch.bool, is_shared=False),\n",
      "        truncated: Tensor(shape=torch.Size([1]), device=cpu, dtype=torch.bool, is_shared=False)},\n",
      "    batch_size=torch.Size([]),\n",
      "    device=cpu,\n",
      "    is_shared=False)\n"
     ]
    }
   ],
   "source": [
    "_env = gym.make(\"ALE/Assault-v5\").env\n",
    "\n",
    "n_actions = _env.action_space.n # see more info in actions.txt\n",
    "\n",
    "print(\"n_actions=\", n_actions)\n",
    "\n",
    "from torchrl.envs import *\n",
    "from torchrl.envs.libs.gym import *\n",
    "\n",
    "env = TransformedEnv(\n",
    "    GymEnv(\"ALE/Assault-v5\", from_pixels=True),\n",
    "    Compose(\n",
    "        ToTensorImage(in_keys=[\"pixels\"], out_keys=[\"pixels_trsf\"]),\n",
    "        Resize(in_keys=[\"pixels_trsf\"], w=64, h=64),\n",
    "        GrayScale(in_keys=[\"pixels_trsf\"]),\n",
    "        FrameSkipTransform(4), \n",
    "    ),\n",
    ") \n",
    "\n",
    "state = env.reset()\n",
    "\n",
    "print(state)"
   ]
  },
  {
   "cell_type": "code",
   "execution_count": 5,
   "id": "24c41f33",
   "metadata": {},
   "outputs": [
    {
     "name": "stdout",
     "output_type": "stream",
     "text": [
      "torch.Size([1, 64, 64])\n"
     ]
    },
    {
     "data": {
      "text/plain": [
       "<matplotlib.image.AxesImage at 0x13ef9b121a0>"
      ]
     },
     "execution_count": 5,
     "metadata": {},
     "output_type": "execute_result"
    },
    {
     "data": {
      "image/png": "[encoded data removed]",
      "text/plain": [
       "<Figure size 640x480 with 1 Axes>"
      ]
     },
     "metadata": {},
     "output_type": "display_data"
    }
   ],
   "source": [
    "state = env.reset()\n",
    "\n",
    "print(state['pixels_trsf'].shape)\n",
    "\n",
    "plt.imshow(state['pixels_trsf'].permute(1, 2, 0))"
   ]
  },
  {
   "cell_type": "code",
   "execution_count": 6,
   "id": "75dec92b",
   "metadata": {},
   "outputs": [],
   "source": [
    "import torch\n",
    "\n",
    "import torch.nn as nn\n",
    "import torch.nn.functional as F\n",
    "\n",
    "class NeuralNetwork(nn.Module):\n",
    "    def __init__(self, num_channels, height, width, n_actions):\n",
    "        super(NeuralNetwork, self).__init__()\n",
    "        \n",
    "        self.conv1 = nn.Conv2d(in_channels=num_channels, out_channels=1, kernel_size=(8, 8), stride=(1, 1))\n",
    "        self.conv2 = nn.Conv2d(in_channels=1, out_channels=1, kernel_size=(8, 8), stride=(1, 1))\n",
    "        self.conv3 = nn.Conv2d(in_channels=1, out_channels=1, kernel_size=(4, 4), stride=(1, 1))\n",
    "        self.pool = nn.MaxPool2d((2, 2))\n",
    "\n",
    "        self.fc_size = self.compute_fc_size(num_channels, height, width)\n",
    "\n",
    "        self.fc1 = nn.Linear(self.fc_size, 1024)\n",
    "        self.fc2 = nn.Linear(1024, 128)\n",
    "        self.fc3 = nn.Linear(128, 16)\n",
    "        self.fc4 = nn.Linear(16, n_actions)\n",
    "        \n",
    "    def compute_fc_size(self, num_channels, height, width):\n",
    "        # Применение сверточных и пулинг слоев для вычисления размера входа\n",
    "        x = torch.rand(1, num_channels, height, width)\n",
    "        x = self.pool(self.conv1(x))\n",
    "        x = self.pool(self.conv2(x))\n",
    "        x = self.pool(self.conv3(x))\n",
    "\n",
    "        # Вычисление размера входа для полносвязанного слоя\n",
    "        fc_size = x.view(1, -1).size(1)\n",
    "        return fc_size\n",
    "    \n",
    "    \n",
    "    def forward(self, x):\n",
    "\n",
    "        x = self.pool(self.conv1(x)) # F.RELU???\n",
    "        x = self.pool(self.conv2(x))\n",
    "        x = self.pool(self.conv3(x))\n",
    "\n",
    "        x = x.view(x.size(0), -1)\n",
    "\n",
    "        x = F.relu(self.fc1(x))\n",
    "        x = F.relu(self.fc2(x))\n",
    "        x = F.relu(self.fc3(x))\n",
    "        x = self.fc4(x)\n",
    "        \n",
    "        return x"
   ]
  },
  {
   "cell_type": "code",
   "execution_count": 7,
   "id": "71c63a8f",
   "metadata": {},
   "outputs": [],
   "source": [
    "def build_model(num_channels, height, width, n_actions):\n",
    "      model = NeuralNetwork(num_channels=num_channels, height=height, width=width, n_actions=n_actions)\n",
    "      # self.buffer = PrioritizedReplayBuffer(50000)\n",
    "      return model\n",
    "\n",
    "model = build_model(1, 64, 64, n_actions)\n",
    "opt = torch.optim.Adam(model.parameters(), lr=5e-3)"
   ]
  },
  {
   "cell_type": "code",
   "execution_count": 8,
   "id": "8d6fdc03",
   "metadata": {},
   "outputs": [],
   "source": [
    "def get_action(state, epsilon=0):\n",
    "    if np.random.rand() < epsilon:\n",
    "        return np.random.choice(np.arange(0, n_actions))\n",
    "\n",
    "    q_values = model(state).detach().numpy()\n",
    "\n",
    "    return int(np.argmax(q_values))"
   ]
  },
  {
   "cell_type": "code",
   "execution_count": 9,
   "id": "7afd083a",
   "metadata": {},
   "outputs": [],
   "source": [
    "def compute_td_loss(states, _actions, rewards, next_states, is_done, gamma=0.99, check_shapes=False):\n",
    "    \"\"\" Compute td loss using torch operations only. Use the formula above. \"\"\"\n",
    "    states = torch.tensor(states, dtype=torch.float32)    # shape: [batch_size, state_size]\n",
    "\n",
    "    # print(next_states)\n",
    "\n",
    "    actions = []\n",
    "    for i in range(_actions.shape[0]):\n",
    "        actions.append(_actions[i].argmax())\n",
    "\n",
    "    actions = torch.tensor(actions, dtype=torch.long)    # shape: [batch_size]\n",
    "    # print(actions)\n",
    "    rewards = torch.tensor(rewards, dtype=torch.float32)  # shape: [batch_size]\n",
    "    next_states = torch.tensor(next_states, dtype=torch.float32) # shape: [batch_size, state_size]\n",
    "    is_done = torch.tensor(is_done, dtype=torch.uint8)  # shape: [batch_size]\n",
    "\n",
    "    # get q-values for all actions in current states\n",
    "    predicted_qvalues = model(states)\n",
    "\n",
    "    # select q-values for chosen actions\n",
    "    predicted_qvalues_for_actions = predicted_qvalues[\n",
    "      range(states.shape[0]), actions\n",
    "    ]\n",
    "\n",
    "    # compute q-values for all actions in next states\n",
    "    predicted_next_qvalues = model(next_states).detach()\n",
    "\n",
    "    # compute V*(next_states) using predicted next q-values\n",
    "    # print(predicted_next_qvalues)\n",
    "    next_state_values = torch.max(predicted_next_qvalues, 1)[0]\n",
    "    # print(next_state_values)\n",
    "\n",
    "    assert next_state_values.dtype == torch.float32\n",
    "\n",
    "    # compute \"target q-values\" for loss - it's what's inside square parentheses in the above formula.\n",
    "    target_qvalues_for_actions = rewards + gamma * next_state_values\n",
    "\n",
    "    # at the last state we shall use simplified formula: Q(s,a) = r(s,a) since s' doesn't exist\n",
    "    target_qvalues_for_actions = torch.where(\n",
    "        is_done, rewards, target_qvalues_for_actions)\n",
    "    \n",
    "    # print(predicted_qvalues_for_actions)\n",
    "\n",
    "    # print((predicted_qvalues_for_actions -\n",
    "                    #   target_qvalues_for_actions.detach()) ** 2)\n",
    "\n",
    "    # mean squared error loss to minimize\n",
    "    loss = torch.mean((predicted_qvalues_for_actions -\n",
    "                      target_qvalues_for_actions.detach()) ** 2)\n",
    "    \n",
    "    if check_shapes:\n",
    "        assert predicted_next_qvalues.data.dim(\n",
    "        ) == 2, \"make sure you predicted q-values for all actions in next state\"\n",
    "        assert next_state_values.data.dim(\n",
    "        ) == 1, \"make sure you computed V(s') as maximum over just the actions axis and not all axes\"\n",
    "        assert target_qvalues_for_actions.data.dim(\n",
    "        ) == 1, \"there's something wrong with target q-values, they must be a vector\"\n",
    "\n",
    "    return loss"
   ]
  },
  {
   "cell_type": "code",
   "execution_count": 10,
   "id": "1f59ce9d",
   "metadata": {},
   "outputs": [],
   "source": [
    "def step(states, actions, rewards, next_states, dones):\n",
    "    # print(\"lol\")\n",
    "    # print(states, actions, rewards, next_states, dones)\n",
    "    opt.zero_grad()\n",
    "    L = compute_td_loss(states, actions, rewards, next_states, dones)\n",
    "    x = L.detach()\n",
    "    L.backward()\n",
    "    opt.step() \n",
    "\n",
    "    return x"
   ]
  },
  {
   "cell_type": "code",
   "execution_count": 11,
   "id": "f2ae3975",
   "metadata": {},
   "outputs": [
    {
     "name": "stdout",
     "output_type": "stream",
     "text": [
      "7\n"
     ]
    }
   ],
   "source": [
    "n_actions = env.action_space.n\n",
    "\n",
    "print(n_actions)\n",
    "from torchrl.data import *\n",
    "from torchrl.data.replay_buffers.samplers import PrioritizedSampler\n",
    "\n",
    "size = 10000\n",
    "\n",
    "from tensordict import TensorDict\n",
    "rb = TensorDictReplayBuffer(storage=ListStorage(size), sampler=PrioritizedSampler(size, alpha=0.8, beta=1.1), batch_size=1)\n",
    "L = []"
   ]
  },
  {
   "cell_type": "code",
   "execution_count": 12,
   "id": "d070b5d1",
   "metadata": {},
   "outputs": [],
   "source": [
    "def generate_session(t_max=1000, epsilon=0, train=False):\n",
    "    \"\"\"play env with approximate q-learning agent and train it at the same time\"\"\"\n",
    "    env = TransformedEnv(\n",
    "        GymEnv(\"ALE/Assault-v5\", from_pixels=True),\n",
    "        Compose(\n",
    "                ToTensorImage(in_keys=[\"pixels\"], out_keys=[\"pixels_trsf\"]),\n",
    "                Resize(in_keys=[\"pixels_trsf\"], w=64, h=64),\n",
    "                GrayScale(in_keys=[\"pixels_trsf\"]),\n",
    "                FrameSkipTransform(4), \n",
    "        ),\n",
    "    ) \n",
    "    total_reward = 0\n",
    "    state = env.reset()\n",
    "\n",
    "    # передаем pixels\n",
    "\n",
    "    for t in range(t_max):\n",
    "        # state['index'] = torch.zeros(1) + cnt\n",
    "        # print(state)\n",
    "        # env.render()\n",
    "        action = get_action(state['pixels_trsf'])\n",
    "        # print(action)\n",
    "        \n",
    "#         Action = torch.zeros(n_actions)\n",
    "#         Action[action] = 1\n",
    "        \n",
    "        state['action'] = torch.zeros(n_actions)\n",
    "        state['action'][action] = 1\n",
    "        \n",
    "#         td = TensorDict({'action': Action}, batch_size=torch.Size([]))\n",
    "        \n",
    "        next_state = env.step(state)['next']\n",
    "\n",
    "        state['next'] = next_state \n",
    "        rb.add(state)       \n",
    "#         print(next_state)\n",
    "        \n",
    "#         next_state = result['pixels_trsf']\n",
    "        reward = next_state['reward'][0]\n",
    "        done = next_state['done'][0]\n",
    "        truncated = next_state['truncated'][0]\n",
    "\n",
    "        \n",
    "#         print(next_state, reward, done, truncated)\n",
    "\n",
    "        done = done or truncated\n",
    "\n",
    "        total_reward += reward\n",
    "        state = next_state\n",
    "        if done:\n",
    "            break\n",
    "            \n",
    "        # plt.imshow(state['pixels_trsf'].permute(1, 2, 0))\n",
    "        # plt.show()\n",
    "        # clear_output(True)\n",
    "\n",
    "    return total_reward"
   ]
  },
  {
   "cell_type": "code",
   "execution_count": 13,
   "id": "5b67cb34",
   "metadata": {},
   "outputs": [
    {
     "data": {
      "image/png": "[encoded data removed]",
      "text/plain": [
       "<Figure size 640x480 with 1 Axes>"
      ]
     },
     "metadata": {},
     "output_type": "display_data"
    },
    {
     "name": "stdout",
     "output_type": "stream",
     "text": [
      "1\n"
     ]
    },
    {
     "name": "stderr",
     "output_type": "stream",
     "text": [
      " 25%|██▌       | 5/20 [00:22<01:06,  4.41s/it]"
     ]
    }
   ],
   "source": [
    "from joblib import Parallel, delayed\n",
    "import warnings\n",
    "warnings.filterwarnings('ignore')\n",
    "import tqdm\n",
    "L = []\n",
    "R = []\n",
    "\n",
    "for _ in range(20):\n",
    "    print(_)\n",
    "    r = []\n",
    "    for __ in tqdm.tqdm(range(20)):\n",
    "        r.append(generate_session(epsilon=0.1))\n",
    "    \n",
    "    R.append(np.mean(r))\n",
    "\n",
    "    clear_output(True)\n",
    "\n",
    "    x, info = rb.sample(1000, return_info=True)\n",
    "    # print(info)\n",
    "    # print(x)\n",
    "\n",
    "    x['next']['done'] = x['next']['done'] + x['next']['truncated']\n",
    "    \n",
    "    wow = step(x['pixels_trsf'], x['action'], x['next']['reward'], x['next']['pixels_trsf'], x['next']['done']).detach()\n",
    "\n",
    "    # print(wow)\n",
    "    wow = torch.ones(len(info['index'])) * wow\n",
    "\n",
    "    rb.update_priority(index=info['index'], priority=wow + 1e-6)\n",
    "\n",
    "    L.append(wow.numpy().mean())\n",
    "    # print(L)\n",
    "    # print(x)\n",
    "\n",
    "    z = range(len(R))\n",
    "    z = list(z)\n",
    "\n",
    "    plt.plot(z, R)\n",
    "    plt.show()\n",
    "z = range(len(L))\n",
    "z = list(z)\n",
    "\n",
    "plt.plot(z, L)\n",
    "plt.show()\n",
    "# Parallel(n_jobs=-2)(delayed(generate_session)() for _ in range(15))"
   ]
  }
 ],
 "metadata": {
  "hide_input": false,
  "kernelspec": {
   "display_name": "Python 3 (ipykernel)",
   "language": "python",
   "name": "python3"
  },
  "language_info": {
   "codemirror_mode": {
    "name": "ipython",
    "version": 3
   },
   "file_extension": ".py",
   "mimetype": "text/x-python",
   "name": "python",
   "nbconvert_exporter": "python",
   "pygments_lexer": "ipython3",
   "version": "3.10.11"
  }
 },
 "nbformat": 4,
 "nbformat_minor": 5
}
