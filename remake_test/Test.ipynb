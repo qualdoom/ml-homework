{
 "cells": [
  {
   "cell_type": "code",
   "execution_count": 1,
   "id": "0470923b",
   "metadata": {},
   "outputs": [],
   "source": [
    "# !pip install wheel==0.38.4\n",
    "# !pip install setuptools==65\n",
    "# !pip install gym==0.21\n",
    "# !pip install torchrl\n",
    "# pip install stable-baselines3[extra]\n",
    "# !pip install torchvision\n",
    "# !pip install gym==0.21\n",
    "# !pip install --upgrade ipykernel\n",
    "# !pip install matplotlib\n",
    "# !pip install gym[atari,accept-rom-license]==0.21.0\n",
    "# !pip install joblib\n",
    "# !pip install tqdm"
   ]
  },
  {
   "cell_type": "code",
   "execution_count": 2,
   "id": "bf9b14a9",
   "metadata": {},
   "outputs": [
    {
     "name": "stdout",
     "output_type": "stream",
     "text": [
      "cuda\n"
     ]
    }
   ],
   "source": [
    "from IPython.display import clear_output\n",
    "from PIL import Image\n",
    "import matplotlib.pyplot as plt\n",
    "import gym\n",
    "import torchvision\n",
    "import numpy as np\n",
    "import torchrl\n",
    "import torch\n",
    "\n",
    "loading = True\n",
    "learning_rate = 4e-3\n",
    "\n",
    "device = torch.device(\"cuda\" if torch.cuda.is_available() else \"cpu\")\n",
    "\n",
    "print(device)"
   ]
  },
  {
   "cell_type": "code",
   "execution_count": 3,
   "id": "1fcad31b",
   "metadata": {},
   "outputs": [
    {
     "data": {
      "text/plain": [
       "'0.21.0'"
      ]
     },
     "execution_count": 3,
     "metadata": {},
     "output_type": "execute_result"
    }
   ],
   "source": [
    "gym.version.VERSION"
   ]
  },
  {
   "cell_type": "code",
   "execution_count": 4,
   "id": "93111744",
   "metadata": {},
   "outputs": [
    {
     "name": "stdout",
     "output_type": "stream",
     "text": [
      "n_actions= 7\n",
      "TensorDict(\n",
      "    fields={\n",
      "        done: Tensor(shape=torch.Size([1]), device=cuda:0, dtype=torch.bool, is_shared=True),\n",
      "        pixels: Tensor(shape=torch.Size([210, 160, 3]), device=cuda:0, dtype=torch.uint8, is_shared=True),\n",
      "        pixels_trsf: Tensor(shape=torch.Size([1, 64, 64]), device=cuda:0, dtype=torch.float32, is_shared=True),\n",
      "        terminated: Tensor(shape=torch.Size([1]), device=cuda:0, dtype=torch.bool, is_shared=True),\n",
      "        truncated: Tensor(shape=torch.Size([1]), device=cuda:0, dtype=torch.bool, is_shared=True)},\n",
      "    batch_size=torch.Size([]),\n",
      "    device=cuda,\n",
      "    is_shared=True)\n"
     ]
    }
   ],
   "source": [
    "_env = gym.make(\"ALE/Assault-v5\").env\n",
    "\n",
    "n_actions = _env.action_space.n # see more info in actions.txt\n",
    "\n",
    "print(\"n_actions=\", n_actions)\n",
    "\n",
    "from torchrl.envs import *\n",
    "from torchrl.envs.libs.gym import *\n",
    "\n",
    "env = TransformedEnv(\n",
    "    GymEnv(\"ALE/Assault-v5\", from_pixels=True),\n",
    "    Compose(\n",
    "        ToTensorImage(in_keys=[\"pixels\"], out_keys=[\"pixels_trsf\"]),\n",
    "        Resize(in_keys=[\"pixels_trsf\"], w=64, h=64),\n",
    "        GrayScale(in_keys=[\"pixels_trsf\"]),\n",
    "        FrameSkipTransform(4), \n",
    "    ),\n",
    ").to(device)\n",
    "\n",
    "state = env.reset()\n",
    "\n",
    "print(state)\n",
    "torch.manual_seed(21)\n",
    "np.random.seed(21)"
   ]
  },
  {
   "cell_type": "code",
   "execution_count": 5,
   "id": "24c41f33",
   "metadata": {},
   "outputs": [
    {
     "name": "stdout",
     "output_type": "stream",
     "text": [
      "torch.Size([1, 64, 64])\n"
     ]
    },
    {
     "data": {
      "text/plain": [
       "<matplotlib.image.AxesImage at 0x1aeff768100>"
      ]
     },
     "execution_count": 5,
     "metadata": {},
     "output_type": "execute_result"
    },
    {
     "data": {
      "image/png": "[encoded data removed]",
      "text/plain": [
       "<Figure size 432x288 with 1 Axes>"
      ]
     },
     "metadata": {
      "needs_background": "light"
     },
     "output_type": "display_data"
    }
   ],
   "source": [
    "state = env.reset()\n",
    "\n",
    "print(state['pixels_trsf'].shape)\n",
    "\n",
    "plt.imshow(state['pixels_trsf'].cpu().permute(1, 2, 0))"
   ]
  },
  {
   "cell_type": "code",
   "execution_count": 6,
   "id": "75dec92b",
   "metadata": {},
   "outputs": [],
   "source": [
    "import torch\n",
    "\n",
    "import torch.nn as nn\n",
    "import torch.nn.functional as F\n",
    "\n",
    "class NeuralNetwork(nn.Module):\n",
    "    def __init__(self, num_channels, height, width, n_actions):\n",
    "        super(NeuralNetwork, self).__init__()\n",
    "        \n",
    "        self.conv1 = nn.Conv2d(in_channels=num_channels, out_channels=1, kernel_size=(8, 8), stride=(1, 1))\n",
    "        self.conv2 = nn.Conv2d(in_channels=1, out_channels=1, kernel_size=(8, 8), stride=(1, 1))\n",
    "        self.conv3 = nn.Conv2d(in_channels=1, out_channels=1, kernel_size=(4, 4), stride=(1, 1))\n",
    "        self.pool = nn.MaxPool2d((2, 2))\n",
    "\n",
    "        self.fc_size = self.compute_fc_size(num_channels, height, width)\n",
    "\n",
    "        self.fc1 = nn.Linear(self.fc_size, 256)\n",
    "        self.fc2 = nn.Linear(256, 256)\n",
    "        self.fc3 = nn.Linear(256, 32)\n",
    "        self.fc4 = nn.Linear(32, n_actions)\n",
    "        \n",
    "    def compute_fc_size(self, num_channels, height, width):\n",
    "        # Применение сверточных и пулинг слоев для вычисления размера входа\n",
    "        x = torch.rand(1, num_channels, height, width)\n",
    "        x = self.pool(self.conv1(x))\n",
    "        x = self.pool(self.conv2(x))\n",
    "        x = self.pool(self.conv3(x))\n",
    "\n",
    "        # Вычисление размера входа для полносвязанного слоя\n",
    "        fc_size = x.view(1, -1).size(1)\n",
    "        return fc_size\n",
    "    \n",
    "    \n",
    "    def forward(self, x):\n",
    "\n",
    "        x = self.pool(self.conv1(x)) # F.RELU???\n",
    "        x = self.pool(self.conv2(x))\n",
    "        x = self.pool(self.conv3(x))\n",
    "\n",
    "        x = x.view(x.size(0), -1)\n",
    "\n",
    "        x = F.relu(self.fc1(x))\n",
    "        x = F.relu(self.fc2(x))\n",
    "        x = F.relu(self.fc3(x))\n",
    "        x = F.softmax(self.fc4(x))\n",
    "        \n",
    "        return x"
   ]
  },
  {
   "cell_type": "code",
   "execution_count": 7,
   "id": "71c63a8f",
   "metadata": {},
   "outputs": [],
   "source": [
    "def build_model(num_channels, height, width, n_actions):\n",
    "      model = NeuralNetwork(num_channels=num_channels, height=height, width=width, n_actions=n_actions).to(device)\n",
    "      # self.buffer = PrioritizedReplayBuffer(50000)\n",
    "      return model\n",
    "\n",
    "model = build_model(1, 64, 64, n_actions).to(device)\n",
    "opt = torch.optim.Adam(model.parameters(), lr=learning_rate)"
   ]
  },
  {
   "cell_type": "code",
   "execution_count": 8,
   "id": "8d6fdc03",
   "metadata": {},
   "outputs": [],
   "source": [
    "def get_action(state, epsilon=0):\n",
    "    if np.random.rand() < epsilon:\n",
    "        return np.random.choice(np.arange(0, n_actions))\n",
    "\n",
    "    value, index = torch.max(model(state).detach(),1)  \n",
    "\n",
    "    return index"
   ]
  },
  {
   "cell_type": "code",
   "execution_count": 9,
   "id": "7afd083a",
   "metadata": {},
   "outputs": [],
   "source": [
    "def compute_td_loss(states, _actions, rewards, next_states, is_done, gamma=0.99, check_shapes=False):\n",
    "    \"\"\" Compute td loss using torch operations only. Use the formula above. \"\"\"\n",
    "    states = torch.tensor(states, dtype=torch.float32).to(device)    # shape: [batch_size, state_size]\n",
    "\n",
    "    # print(next_states)\n",
    "\n",
    "    actions = []\n",
    "    for i in range(_actions.shape[0]):\n",
    "        actions.append(_actions[i].argmax())\n",
    "\n",
    "    actions = torch.tensor(actions, dtype=torch.long).to(device)    # shape: [batch_size]\n",
    "    # print(actions)\n",
    "    rewards = torch.tensor(rewards, dtype=torch.float32).to(device)  # shape: [batch_size]\n",
    "    next_states = torch.tensor(next_states, dtype=torch.float32).to(device) # shape: [batch_size, state_size]\n",
    "    is_done = torch.tensor(is_done, dtype=torch.uint8).to(device)  # shape: [batch_size]\n",
    "\n",
    "    # get q-values for all actions in current states\n",
    "    predicted_qvalues = model(states).to(device)\n",
    "\n",
    "    # select q-values for chosen actions\n",
    "    predicted_qvalues_for_actions = predicted_qvalues[\n",
    "      range(states.shape[0]), actions\n",
    "    ].to(device)\n",
    "\n",
    "    # compute q-values for all actions in next states\n",
    "    predicted_next_qvalues = model(next_states).detach().to(device)\n",
    "\n",
    "    # compute V*(next_states) using predicted next q-values\n",
    "    # print(predicted_next_qvalues)\n",
    "    next_state_values = torch.max(predicted_next_qvalues, 1)[0].to(device)\n",
    "    # print(next_state_values)\n",
    "\n",
    "    assert next_state_values.dtype == torch.float32\n",
    "\n",
    "    # compute \"target q-values\" for loss - it's what's inside square parentheses in the above formula.\n",
    "    target_qvalues_for_actions = (rewards + gamma * next_state_values).to(device)\n",
    "\n",
    "    # at the last state we shall use simplified formula: Q(s,a) = r(s,a) since s' doesn't exist\n",
    "    target_qvalues_for_actions = torch.where(\n",
    "        is_done, rewards, target_qvalues_for_actions).to(device)\n",
    "    \n",
    "    # print(predicted_qvalues_for_actions)\n",
    "\n",
    "    # print((predicted_qvalues_for_actions -\n",
    "                    #   target_qvalues_for_actions.detach()) ** 2)\n",
    "\n",
    "    # mean squared error loss to minimize\n",
    "    loss = torch.mean((predicted_qvalues_for_actions -\n",
    "                      target_qvalues_for_actions.detach()) ** 2).to(device)\n",
    "    \n",
    "    if check_shapes:\n",
    "        assert predicted_next_qvalues.data.dim(\n",
    "        ) == 2, \"make sure you predicted q-values for all actions in next state\"\n",
    "        assert next_state_values.data.dim(\n",
    "        ) == 1, \"make sure you computed V(s') as maximum over just the actions axis and not all axes\"\n",
    "        assert target_qvalues_for_actions.data.dim(\n",
    "        ) == 1, \"there's something wrong with target q-values, they must be a vector\"\n",
    "\n",
    "    return loss"
   ]
  },
  {
   "cell_type": "code",
   "execution_count": 10,
   "id": "dedaed3b",
   "metadata": {},
   "outputs": [],
   "source": [
    "def _compute_each_loss(states, _actions, rewards, next_states, is_done, gamma=0.99, check_shapes=False):\n",
    "    actions = []\n",
    "    for i in range(_actions.shape[0]):\n",
    "        actions.append(_actions[i].argmax())\n",
    "\n",
    "    actions = torch.tensor(actions, dtype=torch.long).to(device)    # shape: [batch_size]\n",
    "\n",
    "    predicted_qvalues = model(states).to(device)\n",
    "\n",
    "    predicted_qvalues_for_actions = predicted_qvalues[\n",
    "      range(states.shape[0]), actions\n",
    "    ].to(device)\n",
    "\n",
    "    predicted_next_qvalues = model(next_states).detach().to(device)\n",
    "\n",
    "    next_state_values = torch.max(predicted_next_qvalues, 1)[0].to(device)\n",
    "\n",
    "    assert next_state_values.dtype == torch.float32\n",
    "\n",
    "    target_qvalues_for_actions = (rewards + gamma * next_state_values).to(device)\n",
    "\n",
    "    target_qvalues_for_actions = torch.where(\n",
    "        is_done, rewards, target_qvalues_for_actions).to(device)\n",
    "    \n",
    "    priority = (abs(predicted_qvalues_for_actions - target_qvalues_for_actions.detach())).detach().to(device)\n",
    "\n",
    "    loss = ((predicted_qvalues_for_actions -\n",
    "                      target_qvalues_for_actions.detach()) ** 2).to(device)\n",
    "    \n",
    "    return loss, priority"
   ]
  },
  {
   "cell_type": "code",
   "execution_count": 11,
   "id": "f2ae3975",
   "metadata": {},
   "outputs": [
    {
     "name": "stdout",
     "output_type": "stream",
     "text": [
      "7\n"
     ]
    }
   ],
   "source": [
    "n_actions = env.action_space.n\n",
    "\n",
    "print(n_actions)\n",
    "from torchrl.data import *\n",
    "from torchrl.data.replay_buffers.samplers import PrioritizedSampler\n",
    "\n",
    "size = 50000\n",
    "\n",
    "from tensordict import TensorDict\n",
    "rb = TensorDictReplayBuffer(storage=ListStorage(size), sampler=PrioritizedSampler(size, alpha=0.6, beta=0.8))\n",
    "L = []"
   ]
  },
  {
   "cell_type": "code",
   "execution_count": 12,
   "id": "d070b5d1",
   "metadata": {},
   "outputs": [],
   "source": [
    "def generate_session(t_max=100000, epsilon=0):\n",
    "    env = TransformedEnv(\n",
    "        GymEnv(\"ALE/Assault-v5\", from_pixels=True),\n",
    "        Compose(\n",
    "                ToTensorImage(in_keys=[\"pixels\"], out_keys=[\"pixels_trsf\"]),\n",
    "                Resize(in_keys=[\"pixels_trsf\"], w=64, h=64),\n",
    "                GrayScale(in_keys=[\"pixels_trsf\"]),\n",
    "                FrameSkipTransform(4), \n",
    "        ),\n",
    "    ).to(device)\n",
    "    total_reward = 0\n",
    "    state = env.reset()\n",
    "\n",
    "    for t in range(t_max):\n",
    "        action = get_action(state['pixels_trsf'], epsilon)\n",
    "        \n",
    "        state['action'] = torch.zeros(n_actions)\n",
    "        state['action'][action] = 1\n",
    "\n",
    "        next_state = env.step(state)['next']\n",
    "\n",
    "        state['next'] = next_state \n",
    "\n",
    "        rb.add(state)     \n",
    "        \n",
    "        reward = next_state['reward'][0]\n",
    "        done = next_state['done'][0]\n",
    "        truncated = next_state['truncated'][0]\n",
    "\n",
    "        done = done or truncated\n",
    "\n",
    "        total_reward += reward\n",
    "        state = next_state\n",
    "        if done:\n",
    "            break\n",
    "            \n",
    "        # plt.imshow(state['pixels_trsf'].permute(1, 2, 0))\n",
    "        # plt.show()\n",
    "        # clear_output(True)\n",
    "\n",
    "    return total_reward"
   ]
  },
  {
   "cell_type": "code",
   "execution_count": 13,
   "id": "5b67cb34",
   "metadata": {},
   "outputs": [
    {
     "data": {
      "image/png": "[encoded data removed]",
      "text/plain": [
       "<Figure size 1440x360 with 2 Axes>"
      ]
     },
     "metadata": {
      "needs_background": "light"
     },
     "output_type": "display_data"
    },
    {
     "name": "stdout",
     "output_type": "stream",
     "text": [
      "for epoch =  155 , epsilon =  0.025156205517418612\n"
     ]
    },
    {
     "name": "stderr",
     "output_type": "stream",
     "text": [
      "[Parallel(n_jobs=-1)]: Using backend ThreadingBackend with 4 concurrent workers.\n"
     ]
    },
    {
     "ename": "KeyboardInterrupt",
     "evalue": "",
     "output_type": "error",
     "traceback": [
      "\u001b[1;31m---------------------------------------------------------------------------\u001b[0m",
      "\u001b[1;31mKeyboardInterrupt\u001b[0m                         Traceback (most recent call last)",
      "\u001b[1;32m<ipython-input-13-d4175304fbfc>\u001b[0m in \u001b[0;36m<module>\u001b[1;34m\u001b[0m\n\u001b[0;32m     60\u001b[0m \u001b[1;33m\u001b[0m\u001b[0m\n\u001b[0;32m     61\u001b[0m \u001b[1;32mwhile\u001b[0m \u001b[1;32mTrue\u001b[0m\u001b[1;33m:\u001b[0m\u001b[1;33m\u001b[0m\u001b[1;33m\u001b[0m\u001b[0m\n\u001b[1;32m---> 62\u001b[1;33m     \u001b[0mrewards_for_session\u001b[0m \u001b[1;33m=\u001b[0m \u001b[1;33m[\u001b[0m\u001b[0mParallel\u001b[0m\u001b[1;33m(\u001b[0m\u001b[0mn_jobs\u001b[0m\u001b[1;33m=\u001b[0m\u001b[1;33m-\u001b[0m\u001b[1;36m1\u001b[0m\u001b[1;33m,\u001b[0m \u001b[0mrequire\u001b[0m\u001b[1;33m=\u001b[0m\u001b[1;34m'sharedmem'\u001b[0m\u001b[1;33m,\u001b[0m \u001b[0mverbose\u001b[0m\u001b[1;33m=\u001b[0m\u001b[1;36m20\u001b[0m\u001b[1;33m)\u001b[0m\u001b[1;33m(\u001b[0m\u001b[0mdelayed\u001b[0m\u001b[1;33m(\u001b[0m\u001b[0mgenerate_session\u001b[0m\u001b[1;33m)\u001b[0m\u001b[1;33m(\u001b[0m\u001b[0mepsilon\u001b[0m\u001b[1;33m=\u001b[0m\u001b[0meps\u001b[0m\u001b[1;33m)\u001b[0m \u001b[1;32mfor\u001b[0m \u001b[0m_\u001b[0m \u001b[1;32min\u001b[0m \u001b[0mrange\u001b[0m\u001b[1;33m(\u001b[0m\u001b[1;36m8\u001b[0m\u001b[1;33m)\u001b[0m\u001b[1;33m)\u001b[0m\u001b[1;33m]\u001b[0m\u001b[1;33m\u001b[0m\u001b[1;33m\u001b[0m\u001b[0m\n\u001b[0m\u001b[0;32m     63\u001b[0m \u001b[1;33m\u001b[0m\u001b[0m\n\u001b[0;32m     64\u001b[0m     \u001b[0meps\u001b[0m \u001b[1;33m*=\u001b[0m \u001b[1;36m0.98\u001b[0m\u001b[1;33m\u001b[0m\u001b[1;33m\u001b[0m\u001b[0m\n",
      "\u001b[1;32m~\\AppData\\Local\\Packages\\PythonSoftwareFoundation.Python.3.9_qbz5n2kfra8p0\\LocalCache\\local-packages\\Python39\\site-packages\\joblib\\parallel.py\u001b[0m in \u001b[0;36m__call__\u001b[1;34m(self, iterable)\u001b[0m\n\u001b[0;32m   1950\u001b[0m         \u001b[0mnext\u001b[0m\u001b[1;33m(\u001b[0m\u001b[0moutput\u001b[0m\u001b[1;33m)\u001b[0m\u001b[1;33m\u001b[0m\u001b[1;33m\u001b[0m\u001b[0m\n\u001b[0;32m   1951\u001b[0m \u001b[1;33m\u001b[0m\u001b[0m\n\u001b[1;32m-> 1952\u001b[1;33m         \u001b[1;32mreturn\u001b[0m \u001b[0moutput\u001b[0m \u001b[1;32mif\u001b[0m \u001b[0mself\u001b[0m\u001b[1;33m.\u001b[0m\u001b[0mreturn_generator\u001b[0m \u001b[1;32melse\u001b[0m \u001b[0mlist\u001b[0m\u001b[1;33m(\u001b[0m\u001b[0moutput\u001b[0m\u001b[1;33m)\u001b[0m\u001b[1;33m\u001b[0m\u001b[1;33m\u001b[0m\u001b[0m\n\u001b[0m\u001b[0;32m   1953\u001b[0m \u001b[1;33m\u001b[0m\u001b[0m\n\u001b[0;32m   1954\u001b[0m     \u001b[1;32mdef\u001b[0m \u001b[0m__repr__\u001b[0m\u001b[1;33m(\u001b[0m\u001b[0mself\u001b[0m\u001b[1;33m)\u001b[0m\u001b[1;33m:\u001b[0m\u001b[1;33m\u001b[0m\u001b[1;33m\u001b[0m\u001b[0m\n",
      "\u001b[1;32m~\\AppData\\Local\\Packages\\PythonSoftwareFoundation.Python.3.9_qbz5n2kfra8p0\\LocalCache\\local-packages\\Python39\\site-packages\\joblib\\parallel.py\u001b[0m in \u001b[0;36m_get_outputs\u001b[1;34m(self, iterator, pre_dispatch)\u001b[0m\n\u001b[0;32m   1593\u001b[0m \u001b[1;33m\u001b[0m\u001b[0m\n\u001b[0;32m   1594\u001b[0m             \u001b[1;32mwith\u001b[0m \u001b[0mself\u001b[0m\u001b[1;33m.\u001b[0m\u001b[0m_backend\u001b[0m\u001b[1;33m.\u001b[0m\u001b[0mretrieval_context\u001b[0m\u001b[1;33m(\u001b[0m\u001b[1;33m)\u001b[0m\u001b[1;33m:\u001b[0m\u001b[1;33m\u001b[0m\u001b[1;33m\u001b[0m\u001b[0m\n\u001b[1;32m-> 1595\u001b[1;33m                 \u001b[1;32myield\u001b[0m \u001b[1;32mfrom\u001b[0m \u001b[0mself\u001b[0m\u001b[1;33m.\u001b[0m\u001b[0m_retrieve\u001b[0m\u001b[1;33m(\u001b[0m\u001b[1;33m)\u001b[0m\u001b[1;33m\u001b[0m\u001b[1;33m\u001b[0m\u001b[0m\n\u001b[0m\u001b[0;32m   1596\u001b[0m \u001b[1;33m\u001b[0m\u001b[0m\n\u001b[0;32m   1597\u001b[0m         \u001b[1;32mexcept\u001b[0m \u001b[0mGeneratorExit\u001b[0m\u001b[1;33m:\u001b[0m\u001b[1;33m\u001b[0m\u001b[1;33m\u001b[0m\u001b[0m\n",
      "\u001b[1;32m~\\AppData\\Local\\Packages\\PythonSoftwareFoundation.Python.3.9_qbz5n2kfra8p0\\LocalCache\\local-packages\\Python39\\site-packages\\joblib\\parallel.py\u001b[0m in \u001b[0;36m_retrieve\u001b[1;34m(self)\u001b[0m\n\u001b[0;32m   1705\u001b[0m                 (self._jobs[0].get_status(\n\u001b[0;32m   1706\u001b[0m                     timeout=self.timeout) == TASK_PENDING)):\n\u001b[1;32m-> 1707\u001b[1;33m                 \u001b[0mtime\u001b[0m\u001b[1;33m.\u001b[0m\u001b[0msleep\u001b[0m\u001b[1;33m(\u001b[0m\u001b[1;36m0.01\u001b[0m\u001b[1;33m)\u001b[0m\u001b[1;33m\u001b[0m\u001b[1;33m\u001b[0m\u001b[0m\n\u001b[0m\u001b[0;32m   1708\u001b[0m                 \u001b[1;32mcontinue\u001b[0m\u001b[1;33m\u001b[0m\u001b[1;33m\u001b[0m\u001b[0m\n\u001b[0;32m   1709\u001b[0m \u001b[1;33m\u001b[0m\u001b[0m\n",
      "\u001b[1;31mKeyboardInterrupt\u001b[0m: "
     ]
    }
   ],
   "source": [
    "from joblib import Parallel, delayed\n",
    "import warnings\n",
    "from multiprocessing import Pool\n",
    "warnings.filterwarnings('ignore')\n",
    "import tqdm\n",
    "\n",
    "\n",
    "epoch = 1\n",
    "Loss = []\n",
    "Reward = []\n",
    "eps = 0.6\n",
    "\n",
    "def load():\n",
    "    global epoch, Loss, eps, Reward, rb\n",
    "    checkpoint = torch.load('model.pth')\n",
    "    model.load_state_dict(checkpoint['model'])\n",
    "    opt.load_state_dict(checkpoint['optimizer'])\n",
    "    epoch = checkpoint['epoch']\n",
    "    Loss = checkpoint['loss']\n",
    "    Reward = checkpoint['reward']\n",
    "    eps = checkpoint['epsilon']\n",
    "\n",
    "\n",
    "def save():\n",
    "    torch.save({\n",
    "        'epoch': epoch,\n",
    "        'model': model.state_dict(),\n",
    "        'loss': Loss,\n",
    "        'reward': Reward,\n",
    "        'optimizer': opt.state_dict(),\n",
    "        'epsilon': eps,\n",
    "        }, 'model.pth')\n",
    "\n",
    "\n",
    "if loading:\n",
    "    load()\n",
    "\n",
    "save()\n",
    "\n",
    "def plot(L, R):\n",
    "    clear_output(True)\n",
    "    plt.figure(figsize=(20, 5))\n",
    "    plt.subplot(131)\n",
    "    plt.plot(R)\n",
    "    plt.subplot(132)\n",
    "    plt.title('loss')\n",
    "    plt.plot(L)\n",
    "    plt.show()\n",
    "\n",
    "if not loading:\n",
    "    print(\"preparing (add random states to replay buffer)\")\n",
    "\n",
    "    for i in tqdm.tqdm(range(300)):\n",
    "        generate_session(epsilon=1)\n",
    "\n",
    "else:\n",
    "    print(\"preparing (add random states to replay buffer)\")\n",
    "\n",
    "    Parallel(n_jobs=-1, require='sharedmem', verbose=30)(delayed(generate_session)(epsilon=0.3) for _ in range(30))\n",
    "\n",
    "while True:\n",
    "    rewards_for_session = [Parallel(n_jobs=-1, require='sharedmem', verbose=20)(delayed(generate_session)(epsilon=eps) for _ in range(8))]\n",
    "\n",
    "    eps *= 0.98\n",
    "\n",
    "    rewards_for_session = np.asarray(torch.as_tensor(rewards_for_session).cpu())\n",
    "    \n",
    "    Reward.append(np.mean(rewards_for_session))\n",
    "    batch, info = rb.sample(12000, return_info=True)\n",
    "\n",
    "    batch['next']['done'] = batch['next']['done'] + batch['next']['truncated']\n",
    "    \n",
    "    opt.zero_grad()\n",
    "    element_wise_loss, prior = _compute_each_loss(batch['pixels_trsf'], batch['action'], batch['next']['reward'], batch['next']['pixels_trsf'], batch['next']['done'])\n",
    "\n",
    "    loss = torch.mean(element_wise_loss * batch['_weight'])\n",
    "\n",
    "    loss.backward()\n",
    "\n",
    "    opt.step()\n",
    "\n",
    "    rb.update_priority(index=info['index'], priority=prior + 1e-6)\n",
    "\n",
    "    Loss.append((element_wise_loss * batch['_weight']).cpu().detach().numpy().mean())\n",
    "\n",
    "    plot(Loss, Reward)\n",
    "    print(\"for epoch = \", epoch, \", epsilon = \", eps)\n",
    "\n",
    "    if eps < 0.01:\n",
    "        eps = 0.1\n",
    "\n",
    "    if epoch % 3 == 1:\n",
    "        save()\n",
    "        print('saved successfully')\n",
    "    \n",
    "    epoch += 1"
   ]
  }
 ],
 "metadata": {
  "hide_input": false,
  "kernelspec": {
   "display_name": "Python 3.9.13 64-bit (microsoft store)",
   "language": "python",
   "name": "python3"
  },
  "language_info": {
   "codemirror_mode": {
    "name": "ipython",
    "version": 3
   },
   "file_extension": ".py",
   "mimetype": "text/x-python",
   "name": "python",
   "nbconvert_exporter": "python",
   "pygments_lexer": "ipython3",
   "version": "3.9.13"
  },
  "vscode": {
   "interpreter": {
    "hash": "497338f01161d141240caa60efca5087225791fadc9b7c964beb65d863e046f0"
   }
  }
 },
 "nbformat": 4,
 "nbformat_minor": 5
}
