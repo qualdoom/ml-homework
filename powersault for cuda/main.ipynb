{
 "cells": [
  {
   "cell_type": "markdown",
   "metadata": {},
   "source": [
    "## Setup and import some libraries"
   ]
  },
  {
   "cell_type": "code",
   "execution_count": 1,
   "metadata": {},
   "outputs": [],
   "source": [
    "# !pip install wheel==0.38.4\n",
    "# !pip install setuptools==65\n",
    "# !pip install gym==0.21\n",
    "# !pip install torchrl\n",
    "# pip install stable-baselines3[extra]\n",
    "# !pip install torchvision\n",
    "# !pip install gym==0.21\n",
    "# !pip install --upgrade ipykernel\n",
    "# !pip install matplotlib\n",
    "# !pip install gym[atari,accept-rom-license]==0.21.0\n",
    "# !pip install joblib\n",
    "# !pip install tqdm"
   ]
  },
  {
   "cell_type": "code",
   "execution_count": 2,
   "metadata": {},
   "outputs": [
    {
     "name": "stdout",
     "output_type": "stream",
     "text": [
      "cpu\n"
     ]
    }
   ],
   "source": [
    "from IPython.display import clear_output\n",
    "from PIL import Image\n",
    "import matplotlib.pyplot as plt\n",
    "import gym\n",
    "import torchvision\n",
    "import numpy as np\n",
    "import torchrl\n",
    "import torch\n",
    "import tqdm\n",
    "from torchrl.envs import *\n",
    "from torchrl.envs.libs.gym import *\n",
    "from joblib import Parallel, delayed\n",
    "import warnings\n",
    "from multiprocessing import Pool\n",
    "warnings.filterwarnings('ignore')\n",
    "\n",
    "torch.manual_seed(21)\n",
    "np.random.seed(21)\n",
    "\n",
    "device = torch.device(\"cuda\" if torch.cuda.is_available() else \"cpu\")\n",
    "print(device)"
   ]
  },
  {
   "cell_type": "code",
   "execution_count": 3,
   "metadata": {},
   "outputs": [
    {
     "data": {
      "text/plain": [
       "'0.21.0'"
      ]
     },
     "execution_count": 3,
     "metadata": {},
     "output_type": "execute_result"
    }
   ],
   "source": [
    "gym.version.VERSION"
   ]
  },
  {
   "cell_type": "markdown",
   "metadata": {},
   "source": [
    "# So now we want destroy Assault"
   ]
  },
  {
   "cell_type": "code",
   "execution_count": 4,
   "metadata": {},
   "outputs": [
    {
     "name": "stdout",
     "output_type": "stream",
     "text": [
      "n_actions = 7\n",
      "TensorDict(\n",
      "    fields={\n",
      "        done: Tensor(shape=torch.Size([1]), device=cpu, dtype=torch.bool, is_shared=False),\n",
      "        pixels_trsf: Tensor(shape=torch.Size([1, 84, 84]), device=cpu, dtype=torch.float32, is_shared=False),\n",
      "        terminated: Tensor(shape=torch.Size([1]), device=cpu, dtype=torch.bool, is_shared=False),\n",
      "        truncated: Tensor(shape=torch.Size([1]), device=cpu, dtype=torch.bool, is_shared=False)},\n",
      "    batch_size=torch.Size([]),\n",
      "    device=cpu,\n",
      "    is_shared=False)\n"
     ]
    }
   ],
   "source": [
    "_env = gym.make(\"ALE/Assault-v5\").env\n",
    "\n",
    "n_actions = _env.action_space.n # see more info in actions.txt\n",
    "\n",
    "print(\"n_actions =\", n_actions)\n",
    "\n",
    "from torchrl.envs import *\n",
    "from torchrl.envs.libs.gym import *\n",
    "\n",
    "\n",
    "env = TransformedEnv(\n",
    "    GymEnv(\"ALE/Assault-v5\", from_pixels=True),\n",
    "    Compose(\n",
    "        ToTensorImage(in_keys=[\"pixels\"], out_keys=[\"pixels_trsf\"]),\n",
    "        Resize(in_keys=[\"pixels_trsf\"], w=84, h=84),\n",
    "        GrayScale(in_keys=[\"pixels_trsf\"]),\n",
    "        FrameSkipTransform(4), \n",
    "        ExcludeTransform(\"pixels\")\n",
    "    ),\n",
    ").to(device) # our tranformed environment\n",
    "\n",
    "state = env.reset()\n",
    "\n",
    "print(state)"
   ]
  },
  {
   "cell_type": "markdown",
   "metadata": {},
   "source": [
    "## Итак, так выглядит уже измененная среда"
   ]
  },
  {
   "cell_type": "code",
   "execution_count": 5,
   "metadata": {},
   "outputs": [
    {
     "name": "stdout",
     "output_type": "stream",
     "text": [
      "torch.Size([1, 84, 84])\n"
     ]
    },
    {
     "data": {
      "text/plain": [
       "<matplotlib.image.AxesImage at 0x1bcf71405e0>"
      ]
     },
     "execution_count": 5,
     "metadata": {},
     "output_type": "execute_result"
    },
    {
     "data": {
      "image/png": "[encoded data removed]",
      "text/plain": [
       "<Figure size 640x480 with 1 Axes>"
      ]
     },
     "metadata": {},
     "output_type": "display_data"
    }
   ],
   "source": [
    "state = env.reset()\n",
    "\n",
    "print(state['pixels_trsf'].shape)\n",
    "\n",
    "plt.imshow(state['pixels_trsf'].cpu().permute(1, 2, 0), cmap=\"gray\")"
   ]
  },
  {
   "cell_type": "markdown",
   "metadata": {},
   "source": [
    "### Бро, тебе надо больше тренироваться"
   ]
  },
  {
   "cell_type": "code",
   "execution_count": 6,
   "metadata": {},
   "outputs": [
    {
     "name": "stdout",
     "output_type": "stream",
     "text": [
      "784\n",
      "784\n"
     ]
    }
   ],
   "source": [
    "from agent import Agent\n",
    "from constants import *\n",
    "\n",
    "\n",
    "agent = Agent(num_channels=NUM_CHANNELS, width=W, height=H, n_actions=n_actions)\n",
    "\n",
    "epoch = 0\n",
    "eps = 1\n",
    "Loss = []\n",
    "Reward = []\n",
    "t_max = 1000"
   ]
  },
  {
   "cell_type": "markdown",
   "metadata": {},
   "source": [
    "Добавим сохранение и загрузку модели"
   ]
  },
  {
   "cell_type": "code",
   "execution_count": 7,
   "metadata": {},
   "outputs": [],
   "source": [
    "def load():\n",
    "    global epoch, Loss, eps, Reward\n",
    "    checkpoint = torch.load('model.pth', map_location=torch.device(device))\n",
    "    agent.model.load_state_dict(checkpoint['model'])\n",
    "    agent.optimizer.load_state_dict(checkpoint['optimizer'])\n",
    "    epoch = checkpoint['epoch']\n",
    "    Loss = checkpoint['loss']\n",
    "    t_max = checkpoint['t_max']\n",
    "    Reward = checkpoint['reward']\n",
    "    eps = checkpoint['epsilon']"
   ]
  },
  {
   "cell_type": "code",
   "execution_count": 8,
   "metadata": {},
   "outputs": [],
   "source": [
    "def save():\n",
    "    torch.save({\n",
    "        'epoch': epoch,\n",
    "        'model': agent.model.state_dict(),\n",
    "        'loss': Loss,\n",
    "        'reward': Reward,\n",
    "        'optimizer': agent.optimizer.state_dict(),\n",
    "        'epsilon': eps,\n",
    "        't_max': t_max\n",
    "        }, 'model.pth')"
   ]
  },
  {
   "cell_type": "markdown",
   "metadata": {},
   "source": [
    "Добавим для наглядности графики"
   ]
  },
  {
   "cell_type": "code",
   "execution_count": 9,
   "metadata": {},
   "outputs": [],
   "source": [
    "def plot(L, R):\n",
    "    clear_output(True)\n",
    "    plt.figure(figsize=(20, 5))\n",
    "    plt.subplot(131)\n",
    "    plt.plot(R)\n",
    "    plt.subplot(132)\n",
    "    plt.title('loss')\n",
    "    plt.plot(L)\n",
    "    plt.show()"
   ]
  },
  {
   "cell_type": "code",
   "execution_count": 10,
   "metadata": {},
   "outputs": [],
   "source": [
    "def session(agent, t_max=(int)(1e5), epsilon=0):\n",
    "    env = TransformedEnv(\n",
    "    GymEnv(\"ALE/Assault-v5\", from_pixels=True),\n",
    "        Compose(\n",
    "            ToTensorImage(in_keys=[\"pixels\"], out_keys=[\"pixels_trsf\"]),\n",
    "            Resize(in_keys=[\"pixels_trsf\"], w=W, h=H),\n",
    "            GrayScale(in_keys=[\"pixels_trsf\"]),\n",
    "            FrameSkipTransform(4), \n",
    "            ExcludeTransform(\"pixels\")\n",
    "        ),\n",
    "    ).to(device)\n",
    "\n",
    "    total_reward = 0\n",
    "    state = env.reset()\n",
    "\n",
    "    cnt = 0\n",
    "\n",
    "    for t in range(t_max):\n",
    "        action = agent.select_action(state['pixels_trsf'], epsilon=epsilon)\n",
    "\n",
    "        state['action'] = torch.zeros(n_actions)\n",
    "        state['action'][action] = 1\n",
    "\n",
    "        next_state = env.step(state)['next']\n",
    "\n",
    "        next_state['done'] = next_state['done'] + next_state['terminated'] + next_state['truncated']\n",
    "\n",
    "        next_state.pop('truncated', None)\n",
    "        next_state.pop('terminated', None)\n",
    "\n",
    "        state['next'] = next_state\n",
    "\n",
    "        agent.record_experience(state)\n",
    "\n",
    "        total_reward += next_state['reward']\n",
    "\n",
    "        state = next_state\n",
    "\n",
    "        cnt += 1\n",
    "\n",
    "        if cnt == 4:\n",
    "            Loss.append(agent.train(batch_size=32))\n",
    "            cnt = 0\n",
    "\n",
    "        if next_state['done']:\n",
    "            break\n",
    "    \n",
    "    return total_reward"
   ]
  },
  {
   "cell_type": "code",
   "execution_count": 11,
   "metadata": {},
   "outputs": [
    {
     "name": "stdout",
     "output_type": "stream",
     "text": [
      "preparing (add random states to replay buffer)\n",
      "Loss []\n"
     ]
    }
   ],
   "source": [
    "num_sessions = (NUM_SESSIONS_CUDA if device == \"cuda\" else NUM_SESSIONS_CPU)\n",
    "\n",
    "if training:\n",
    "    if loading:\n",
    "        load()\n",
    "    \n",
    "    save()\n",
    "\n",
    "    print(\"preparing (add random states to replay buffer)\")\n",
    "    if not loading:\n",
    "        pass\n",
    "    else:\n",
    "        Parallel(n_jobs=-1, require='sharedmem', verbose=30)(delayed(session)(agent, epsilon=0.3) for _ in range(pre_training_iterations))\n",
    "\n",
    "    while True:\n",
    "        print(\"Loss\", Loss[-10:])\n",
    "        rewards_for_session = [session(agent, t_max=(int)(t_max), epsilon=eps) for _ in range(num_sessions)]\n",
    "        rewards_for_session = np.asarray(torch.as_tensor(rewards_for_session).cpu())\n",
    "\n",
    "        eps *= 0.98\n",
    "\n",
    "        Reward.append(np.mean(rewards_for_session))\n",
    "\n",
    "        clear_output(True)\n",
    "        plot(Loss, Reward)\n",
    "        print(\"for epoch = \", epoch, \", epsilon = \", eps)\n",
    "\n",
    "        if eps < 0.1:\n",
    "            eps = 0.1\n",
    "        \n",
    "        t_max *= 1.01\n",
    "        epoch += 1\n",
    "        t_max = min(t_max, (int)(2e4))\n",
    "\n",
    "        if epoch % 3 == 1:\n",
    "            save()\n",
    "            print('saved successfully')\n",
    "        "
   ]
  },
  {
   "cell_type": "code",
   "execution_count": null,
   "metadata": {},
   "outputs": [],
   "source": [
    "if not training:\n",
    "    pass # lets see result!"
   ]
  }
 ],
 "metadata": {
  "kernelspec": {
   "display_name": "Python 3",
   "language": "python",
   "name": "python3"
  },
  "language_info": {
   "codemirror_mode": {
    "name": "ipython",
    "version": 3
   },
   "file_extension": ".py",
   "mimetype": "text/x-python",
   "name": "python",
   "nbconvert_exporter": "python",
   "pygments_lexer": "ipython3",
   "version": "3.10.11"
  }
 },
 "nbformat": 4,
 "nbformat_minor": 2
}
